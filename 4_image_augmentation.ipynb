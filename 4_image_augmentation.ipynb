{
  "nbformat": 4,
  "nbformat_minor": 0,
  "metadata": {
    "colab": {
      "name": "4_image-augmentation.ipynb",
      "provenance": [],
      "toc_visible": true,
      "authorship_tag": "ABX9TyMnAaoqqDtXhm2gCdujxDB9",
      "include_colab_link": true
    },
    "kernelspec": {
      "name": "python3",
      "display_name": "Python 3"
    },
    "accelerator": "GPU"
  },
  "cells": [
    {
      "cell_type": "markdown",
      "metadata": {
        "id": "view-in-github",
        "colab_type": "text"
      },
      "source": [
        "<a href=\"https://colab.research.google.com/github/duc-ke/study-book-keras_with_blocks/blob/master/4_image_augmentation.ipynb\" target=\"_parent\"><img src=\"https://colab.research.google.com/assets/colab-badge.svg\" alt=\"Open In Colab\"/></a>"
      ]
    },
    {
      "cell_type": "markdown",
      "metadata": {
        "id": "gHgXEmmeq9Va",
        "colab_type": "text"
      },
      "source": [
        "# Generator의 Augmentation 기능을 이용하여 도형그림 사진 분류 정확도 향상 시키기 "
      ]
    },
    {
      "cell_type": "markdown",
      "metadata": {
        "id": "dKh9yxRFrQeC",
        "colab_type": "text"
      },
      "source": [
        "## 시도1. 깔끔한 train 데이터로 학습한 모델을 예외가 많은 test set을 얻어 평가 해본다.\n",
        "결과가 안좋다. train에만 오버피팅\n",
        "\n"
      ]
    },
    {
      "cell_type": "code",
      "metadata": {
        "id": "a5TZWi1W2WGs",
        "colab_type": "code",
        "colab": {
          "base_uri": "https://localhost:8080/",
          "height": 199
        },
        "outputId": "c8a53172-edbb-4fda-b273-fa8df28865a6"
      },
      "source": [
        "!git clone https://github.com/duc-ke/study-book-keras_with_blocks.git\n",
        "%run study-book-keras_with_blocks/0_custom_libraries.ipynb"
      ],
      "execution_count": 1,
      "outputs": [
        {
          "output_type": "stream",
          "text": [
            "Cloning into 'study-book-keras_with_blocks'...\n",
            "remote: Enumerating objects: 178, done.\u001b[K\n",
            "remote: Counting objects: 100% (178/178), done.\u001b[K\n",
            "remote: Compressing objects: 100% (115/115), done.\u001b[K\n",
            "remote: Total 178 (delta 74), reused 151 (delta 61), pack-reused 0\u001b[K\n",
            "Receiving objects: 100% (178/178), 255.68 KiB | 1.89 MiB/s, done.\n",
            "Resolving deltas: 100% (74/74), done.\n"
          ],
          "name": "stdout"
        },
        {
          "output_type": "stream",
          "text": [
            "Using TensorFlow backend.\n"
          ],
          "name": "stderr"
        },
        {
          "output_type": "display_data",
          "data": {
            "text/html": [
              "<p style=\"color: red;\">\n",
              "The default version of TensorFlow in Colab will soon switch to TensorFlow 2.x.<br>\n",
              "We recommend you <a href=\"https://www.tensorflow.org/guide/migrate\" target=\"_blank\">upgrade</a> now \n",
              "or ensure your notebook will continue to use TensorFlow 1.x via the <code>%tensorflow_version 1.x</code> magic:\n",
              "<a href=\"https://colab.research.google.com/notebooks/tensorflow_version.ipynb\" target=\"_blank\">more info</a>.</p>\n"
            ],
            "text/plain": [
              "<IPython.core.display.HTML object>"
            ]
          },
          "metadata": {
            "tags": []
          }
        }
      ]
    },
    {
      "cell_type": "code",
      "metadata": {
        "id": "zsKI9LLCE3Oa",
        "colab_type": "code",
        "colab": {}
      },
      "source": [
        "path = 'study-book-keras_with_blocks/dataset/handwriting_shape/train/triangle/triangle001.png'"
      ],
      "execution_count": 0,
      "outputs": []
    },
    {
      "cell_type": "code",
      "metadata": {
        "id": "M-SP0WsPj1Ms",
        "colab_type": "code",
        "colab": {
          "base_uri": "https://localhost:8080/",
          "height": 173
        },
        "outputId": "e304a668-0323-4582-a947-a7d8e7defe9e"
      },
      "source": [
        "img_show(path, name='triangle')"
      ],
      "execution_count": 3,
      "outputs": [
        {
          "output_type": "display_data",
          "data": {
            "image/png": "[encoded data removed]",
            "text/plain": [
              "<Figure size 144x144 with 1 Axes>"
            ]
          },
          "metadata": {
            "tags": []
          }
        }
      ]
    },
    {
      "cell_type": "code",
      "metadata": {
        "id": "8nVIatSLFH1i",
        "colab_type": "code",
        "colab": {}
      },
      "source": [
        "path = 'study-book-keras_with_blocks/dataset\\\n",
        "/hard_handwriting_shape/test/triangle/tri_0_1137.png'"
      ],
      "execution_count": 0,
      "outputs": []
    },
    {
      "cell_type": "code",
      "metadata": {
        "id": "p7dKkNflMr5d",
        "colab_type": "code",
        "colab": {
          "base_uri": "https://localhost:8080/",
          "height": 173
        },
        "outputId": "1a647d7f-7a18-4b4b-8f5c-7ac74e098eaa"
      },
      "source": [
        "img_show(path, name='triangle')"
      ],
      "execution_count": 5,
      "outputs": [
        {
          "output_type": "display_data",
          "data": {
            "image/png": "[encoded data removed]",
            "text/plain": [
              "<Figure size 144x144 with 1 Axes>"
            ]
          },
          "metadata": {
            "tags": []
          }
        }
      ]
    },
    {
      "cell_type": "markdown",
      "metadata": {
        "id": "evjJIYeBkFu9",
        "colab_type": "text"
      },
      "source": [
        "너무 깨끗한 데이터만 학습시켜서 악필로 테스트 하면 예외가 많이 나올 것이라고 판단됨."
      ]
    },
    {
      "cell_type": "code",
      "metadata": {
        "id": "-swgIQq739ko",
        "colab_type": "code",
        "colab": {}
      },
      "source": [
        "from keras.layers import Dense, Conv2D, Flatten, MaxPooling2D\n",
        "from keras.models import Sequential\n",
        "from keras.preprocessing.image import ImageDataGenerator\n",
        "\n",
        "import numpy as np"
      ],
      "execution_count": 0,
      "outputs": []
    },
    {
      "cell_type": "code",
      "metadata": {
        "id": "zZV0Cz934BmI",
        "colab_type": "code",
        "colab": {}
      },
      "source": [
        "np.random.seed(3)"
      ],
      "execution_count": 0,
      "outputs": []
    },
    {
      "cell_type": "code",
      "metadata": {
        "id": "YEjQo6W8xDlT",
        "colab_type": "code",
        "colab": {
          "base_uri": "https://localhost:8080/",
          "height": 34
        },
        "outputId": "e0dae38a-3aef-45f2-b20b-0cf214765a45"
      },
      "source": [
        "train_datagen = ImageDataGenerator(rescale=1./255)\n",
        "train_generator = train_datagen.flow_from_directory(\n",
        "    'study-book-keras_with_blocks/dataset/handwriting_shape/train/',\n",
        "    target_size=(24, 24),\n",
        "    class_mode='categorical',\n",
        "    batch_size=3\n",
        ")"
      ],
      "execution_count": 8,
      "outputs": [
        {
          "output_type": "stream",
          "text": [
            "Found 45 images belonging to 3 classes.\n"
          ],
          "name": "stdout"
        }
      ]
    },
    {
      "cell_type": "code",
      "metadata": {
        "id": "Ynz7YeGp1bbF",
        "colab_type": "code",
        "colab": {
          "base_uri": "https://localhost:8080/",
          "height": 34
        },
        "outputId": "e00820ea-8d66-452a-dbc4-d6b7a9cfc8e9"
      },
      "source": [
        "# train 데이터 갯수\n",
        "train_generator.samples"
      ],
      "execution_count": 9,
      "outputs": [
        {
          "output_type": "execute_result",
          "data": {
            "text/plain": [
              "45"
            ]
          },
          "metadata": {
            "tags": []
          },
          "execution_count": 9
        }
      ]
    },
    {
      "cell_type": "code",
      "metadata": {
        "id": "aRxELnClw83H",
        "colab_type": "code",
        "colab": {}
      },
      "source": [
        "test_dataset = ImageDataGenerator(rescale=1./255)"
      ],
      "execution_count": 0,
      "outputs": []
    },
    {
      "cell_type": "code",
      "metadata": {
        "id": "LzdabbK7x180",
        "colab_type": "code",
        "colab": {
          "base_uri": "https://localhost:8080/",
          "height": 34
        },
        "outputId": "ec8853a2-8ecf-4174-9b32-7d8c5f3dc4ca"
      },
      "source": [
        "test_generator = test_dataset.flow_from_directory(\n",
        "    'study-book-keras_with_blocks/dataset/hard_handwriting_shape/test/',\n",
        "    target_size=(24, 24),\n",
        "    class_mode='categorical',\n",
        "    batch_size=3    \n",
        ")"
      ],
      "execution_count": 11,
      "outputs": [
        {
          "output_type": "stream",
          "text": [
            "Found 15 images belonging to 3 classes.\n"
          ],
          "name": "stdout"
        }
      ]
    },
    {
      "cell_type": "code",
      "metadata": {
        "id": "x_-cUhr91zvm",
        "colab_type": "code",
        "colab": {
          "base_uri": "https://localhost:8080/",
          "height": 34
        },
        "outputId": "354e9de2-56f0-4606-9374-82abd1463878"
      },
      "source": [
        "test_generator.samples"
      ],
      "execution_count": 12,
      "outputs": [
        {
          "output_type": "execute_result",
          "data": {
            "text/plain": [
              "15"
            ]
          },
          "metadata": {
            "tags": []
          },
          "execution_count": 12
        }
      ]
    },
    {
      "cell_type": "code",
      "metadata": {
        "id": "XFtaE6Pfx0jP",
        "colab_type": "code",
        "colab": {}
      },
      "source": [
        "class CNN(Sequential):\n",
        "  def __init__(self):\n",
        "    super().__init__()\n",
        "    self.add(Conv2D(32, kernel_size=(3,3), activation='relu', input_shape=(24, 24, 3)))\n",
        "    self.add(Conv2D(64, kernel_size=(3,3), activation='relu'))\n",
        "    self.add(MaxPooling2D(pool_size=(2, 2)))\n",
        "    self.add(Flatten())\n",
        "\n",
        "    self.add(Dense(128, activation='relu'))\n",
        "    self.add(Dense(3, activation='softmax'))\n",
        "\n",
        "    self.compile(loss='categorical_crossentropy', optimizer='adam', metrics=['accuracy'])"
      ],
      "execution_count": 0,
      "outputs": []
    },
    {
      "cell_type": "code",
      "metadata": {
        "id": "TvqNJ6Dwy2aK",
        "colab_type": "code",
        "colab": {
          "base_uri": "https://localhost:8080/",
          "height": 241
        },
        "outputId": "1d3fed06-1419-4113-8110-54bb83376d8e"
      },
      "source": [
        "model = CNN()"
      ],
      "execution_count": 14,
      "outputs": [
        {
          "output_type": "stream",
          "text": [
            "WARNING:tensorflow:From /usr/local/lib/python3.6/dist-packages/keras/backend/tensorflow_backend.py:66: The name tf.get_default_graph is deprecated. Please use tf.compat.v1.get_default_graph instead.\n",
            "\n",
            "WARNING:tensorflow:From /usr/local/lib/python3.6/dist-packages/keras/backend/tensorflow_backend.py:541: The name tf.placeholder is deprecated. Please use tf.compat.v1.placeholder instead.\n",
            "\n",
            "WARNING:tensorflow:From /usr/local/lib/python3.6/dist-packages/keras/backend/tensorflow_backend.py:4432: The name tf.random_uniform is deprecated. Please use tf.random.uniform instead.\n",
            "\n",
            "WARNING:tensorflow:From /usr/local/lib/python3.6/dist-packages/keras/backend/tensorflow_backend.py:4267: The name tf.nn.max_pool is deprecated. Please use tf.nn.max_pool2d instead.\n",
            "\n",
            "WARNING:tensorflow:From /usr/local/lib/python3.6/dist-packages/keras/optimizers.py:793: The name tf.train.Optimizer is deprecated. Please use tf.compat.v1.train.Optimizer instead.\n",
            "\n",
            "WARNING:tensorflow:From /usr/local/lib/python3.6/dist-packages/keras/backend/tensorflow_backend.py:3576: The name tf.log is deprecated. Please use tf.math.log instead.\n",
            "\n"
          ],
          "name": "stdout"
        }
      ]
    },
    {
      "cell_type": "code",
      "metadata": {
        "id": "V6mIQAMWzsNS",
        "colab_type": "code",
        "colab": {
          "base_uri": "https://localhost:8080/",
          "height": 686
        },
        "outputId": "ea054e81-d547-4959-db15-f0bda8339394"
      },
      "source": [
        "visualize_model(model)"
      ],
      "execution_count": 15,
      "outputs": [
        {
          "output_type": "execute_result",
          "data": {
            "text/plain": [
              "<IPython.core.display.SVG object>"
            ],
            "image/svg+xml": "<svg height=\"499pt\" viewBox=\"0.00 0.00 412.00 553.00\" width=\"372pt\" xmlns=\"http://www.w3.org/2000/svg\" xmlns:xlink=\"http://www.w3.org/1999/xlink\">\n<g class=\"graph\" id=\"graph0\" transform=\"scale(.9028 .9028) rotate(0) translate(4 549)\">\n<title>G</title>\n<polygon fill=\"#ffffff\" points=\"-4,4 -4,-549 408,-549 408,4 -4,4\" stroke=\"transparent\"/>\n<!-- 139803138183008 -->\n<g class=\"node\" id=\"node1\">\n<title>139803138183008</title>\n<polygon fill=\"none\" points=\"22.5,-498.5 22.5,-544.5 381.5,-544.5 381.5,-498.5 22.5,-498.5\" stroke=\"#000000\"/>\n<text fill=\"#000000\" font-family=\"Times,serif\" font-size=\"14.00\" text-anchor=\"middle\" x=\"114.5\" y=\"-517.8\">conv2d_1_input: InputLayer</text>\n<polyline fill=\"none\" points=\"206.5,-498.5 206.5,-544.5 \" stroke=\"#000000\"/>\n<text fill=\"#000000\" font-family=\"Times,serif\" font-size=\"14.00\" text-anchor=\"middle\" x=\"235.5\" y=\"-529.3\">input:</text>\n<polyline fill=\"none\" points=\"206.5,-521.5 264.5,-521.5 \" stroke=\"#000000\"/>\n<text fill=\"#000000\" font-family=\"Times,serif\" font-size=\"14.00\" text-anchor=\"middle\" x=\"235.5\" y=\"-506.3\">output:</text>\n<polyline fill=\"none\" points=\"264.5,-498.5 264.5,-544.5 \" stroke=\"#000000\"/>\n<text fill=\"#000000\" font-family=\"Times,serif\" font-size=\"14.00\" text-anchor=\"middle\" x=\"323\" y=\"-529.3\">(None, 24, 24, 3)</text>\n<polyline fill=\"none\" points=\"264.5,-521.5 381.5,-521.5 \" stroke=\"#000000\"/>\n<text fill=\"#000000\" font-family=\"Times,serif\" font-size=\"14.00\" text-anchor=\"middle\" x=\"323\" y=\"-506.3\">(None, 24, 24, 3)</text>\n</g>\n<!-- 139803138180880 -->\n<g class=\"node\" id=\"node2\">\n<title>139803138180880</title>\n<polygon fill=\"none\" points=\"44,-415.5 44,-461.5 360,-461.5 360,-415.5 44,-415.5\" stroke=\"#000000\"/>\n<text fill=\"#000000\" font-family=\"Times,serif\" font-size=\"14.00\" text-anchor=\"middle\" x=\"110.5\" y=\"-434.8\">conv2d_1: Conv2D</text>\n<polyline fill=\"none\" points=\"177,-415.5 177,-461.5 \" stroke=\"#000000\"/>\n<text fill=\"#000000\" font-family=\"Times,serif\" font-size=\"14.00\" text-anchor=\"middle\" x=\"206\" y=\"-446.3\">input:</text>\n<polyline fill=\"none\" points=\"177,-438.5 235,-438.5 \" stroke=\"#000000\"/>\n<text fill=\"#000000\" font-family=\"Times,serif\" font-size=\"14.00\" text-anchor=\"middle\" x=\"206\" y=\"-423.3\">output:</text>\n<polyline fill=\"none\" points=\"235,-415.5 235,-461.5 \" stroke=\"#000000\"/>\n<text fill=\"#000000\" font-family=\"Times,serif\" font-size=\"14.00\" text-anchor=\"middle\" x=\"297.5\" y=\"-446.3\">(None, 24, 24, 3)</text>\n<polyline fill=\"none\" points=\"235,-438.5 360,-438.5 \" stroke=\"#000000\"/>\n<text fill=\"#000000\" font-family=\"Times,serif\" font-size=\"14.00\" text-anchor=\"middle\" x=\"297.5\" y=\"-423.3\">(None, 22, 22, 32)</text>\n</g>\n<!-- 139803138183008&#45;&gt;139803138180880 -->\n<g class=\"edge\" id=\"edge1\">\n<title>139803138183008-&gt;139803138180880</title>\n<path d=\"M202,-498.3799C202,-490.1745 202,-480.7679 202,-471.8786\" fill=\"none\" stroke=\"#000000\"/>\n<polygon fill=\"#000000\" points=\"205.5001,-471.784 202,-461.784 198.5001,-471.784 205.5001,-471.784\" stroke=\"#000000\"/>\n</g>\n<!-- 139803138233512 -->\n<g class=\"node\" id=\"node3\">\n<title>139803138233512</title>\n<polygon fill=\"none\" points=\"44,-332.5 44,-378.5 360,-378.5 360,-332.5 44,-332.5\" stroke=\"#000000\"/>\n<text fill=\"#000000\" font-family=\"Times,serif\" font-size=\"14.00\" text-anchor=\"middle\" x=\"110.5\" y=\"-351.8\">conv2d_2: Conv2D</text>\n<polyline fill=\"none\" points=\"177,-332.5 177,-378.5 \" stroke=\"#000000\"/>\n<text fill=\"#000000\" font-family=\"Times,serif\" font-size=\"14.00\" text-anchor=\"middle\" x=\"206\" y=\"-363.3\">input:</text>\n<polyline fill=\"none\" points=\"177,-355.5 235,-355.5 \" stroke=\"#000000\"/>\n<text fill=\"#000000\" font-family=\"Times,serif\" font-size=\"14.00\" text-anchor=\"middle\" x=\"206\" y=\"-340.3\">output:</text>\n<polyline fill=\"none\" points=\"235,-332.5 235,-378.5 \" stroke=\"#000000\"/>\n<text fill=\"#000000\" font-family=\"Times,serif\" font-size=\"14.00\" text-anchor=\"middle\" x=\"297.5\" y=\"-363.3\">(None, 22, 22, 32)</text>\n<polyline fill=\"none\" points=\"235,-355.5 360,-355.5 \" stroke=\"#000000\"/>\n<text fill=\"#000000\" font-family=\"Times,serif\" font-size=\"14.00\" text-anchor=\"middle\" x=\"297.5\" y=\"-340.3\">(None, 20, 20, 64)</text>\n</g>\n<!-- 139803138180880&#45;&gt;139803138233512 -->\n<g class=\"edge\" id=\"edge2\">\n<title>139803138180880-&gt;139803138233512</title>\n<path d=\"M202,-415.3799C202,-407.1745 202,-397.7679 202,-388.8786\" fill=\"none\" stroke=\"#000000\"/>\n<polygon fill=\"#000000\" points=\"205.5001,-388.784 202,-378.784 198.5001,-388.784 205.5001,-388.784\" stroke=\"#000000\"/>\n</g>\n<!-- 139803138295792 -->\n<g class=\"node\" id=\"node4\">\n<title>139803138295792</title>\n<polygon fill=\"none\" points=\"0,-249.5 0,-295.5 404,-295.5 404,-249.5 0,-249.5\" stroke=\"#000000\"/>\n<text fill=\"#000000\" font-family=\"Times,serif\" font-size=\"14.00\" text-anchor=\"middle\" x=\"110.5\" y=\"-268.8\">max_pooling2d_1: MaxPooling2D</text>\n<polyline fill=\"none\" points=\"221,-249.5 221,-295.5 \" stroke=\"#000000\"/>\n<text fill=\"#000000\" font-family=\"Times,serif\" font-size=\"14.00\" text-anchor=\"middle\" x=\"250\" y=\"-280.3\">input:</text>\n<polyline fill=\"none\" points=\"221,-272.5 279,-272.5 \" stroke=\"#000000\"/>\n<text fill=\"#000000\" font-family=\"Times,serif\" font-size=\"14.00\" text-anchor=\"middle\" x=\"250\" y=\"-257.3\">output:</text>\n<polyline fill=\"none\" points=\"279,-249.5 279,-295.5 \" stroke=\"#000000\"/>\n<text fill=\"#000000\" font-family=\"Times,serif\" font-size=\"14.00\" text-anchor=\"middle\" x=\"341.5\" y=\"-280.3\">(None, 20, 20, 64)</text>\n<polyline fill=\"none\" points=\"279,-272.5 404,-272.5 \" stroke=\"#000000\"/>\n<text fill=\"#000000\" font-family=\"Times,serif\" font-size=\"14.00\" text-anchor=\"middle\" x=\"341.5\" y=\"-257.3\">(None, 10, 10, 64)</text>\n</g>\n<!-- 139803138233512&#45;&gt;139803138295792 -->\n<g class=\"edge\" id=\"edge3\">\n<title>139803138233512-&gt;139803138295792</title>\n<path d=\"M202,-332.3799C202,-324.1745 202,-314.7679 202,-305.8786\" fill=\"none\" stroke=\"#000000\"/>\n<polygon fill=\"#000000\" points=\"205.5001,-305.784 202,-295.784 198.5001,-305.784 205.5001,-305.784\" stroke=\"#000000\"/>\n</g>\n<!-- 139803138036064 -->\n<g class=\"node\" id=\"node5\">\n<title>139803138036064</title>\n<polygon fill=\"none\" points=\"54,-166.5 54,-212.5 350,-212.5 350,-166.5 54,-166.5\" stroke=\"#000000\"/>\n<text fill=\"#000000\" font-family=\"Times,serif\" font-size=\"14.00\" text-anchor=\"middle\" x=\"110.5\" y=\"-185.8\">flatten_1: Flatten</text>\n<polyline fill=\"none\" points=\"167,-166.5 167,-212.5 \" stroke=\"#000000\"/>\n<text fill=\"#000000\" font-family=\"Times,serif\" font-size=\"14.00\" text-anchor=\"middle\" x=\"196\" y=\"-197.3\">input:</text>\n<polyline fill=\"none\" points=\"167,-189.5 225,-189.5 \" stroke=\"#000000\"/>\n<text fill=\"#000000\" font-family=\"Times,serif\" font-size=\"14.00\" text-anchor=\"middle\" x=\"196\" y=\"-174.3\">output:</text>\n<polyline fill=\"none\" points=\"225,-166.5 225,-212.5 \" stroke=\"#000000\"/>\n<text fill=\"#000000\" font-family=\"Times,serif\" font-size=\"14.00\" text-anchor=\"middle\" x=\"287.5\" y=\"-197.3\">(None, 10, 10, 64)</text>\n<polyline fill=\"none\" points=\"225,-189.5 350,-189.5 \" stroke=\"#000000\"/>\n<text fill=\"#000000\" font-family=\"Times,serif\" font-size=\"14.00\" text-anchor=\"middle\" x=\"287.5\" y=\"-174.3\">(None, 6400)</text>\n</g>\n<!-- 139803138295792&#45;&gt;139803138036064 -->\n<g class=\"edge\" id=\"edge4\">\n<title>139803138295792-&gt;139803138036064</title>\n<path d=\"M202,-249.3799C202,-241.1745 202,-231.7679 202,-222.8786\" fill=\"none\" stroke=\"#000000\"/>\n<polygon fill=\"#000000\" points=\"205.5001,-222.784 202,-212.784 198.5001,-222.784 205.5001,-222.784\" stroke=\"#000000\"/>\n</g>\n<!-- 139803138037520 -->\n<g class=\"node\" id=\"node6\">\n<title>139803138037520</title>\n<polygon fill=\"none\" points=\"72,-83.5 72,-129.5 332,-129.5 332,-83.5 72,-83.5\" stroke=\"#000000\"/>\n<text fill=\"#000000\" font-family=\"Times,serif\" font-size=\"14.00\" text-anchor=\"middle\" x=\"125.5\" y=\"-102.8\">dense_1: Dense</text>\n<polyline fill=\"none\" points=\"179,-83.5 179,-129.5 \" stroke=\"#000000\"/>\n<text fill=\"#000000\" font-family=\"Times,serif\" font-size=\"14.00\" text-anchor=\"middle\" x=\"208\" y=\"-114.3\">input:</text>\n<polyline fill=\"none\" points=\"179,-106.5 237,-106.5 \" stroke=\"#000000\"/>\n<text fill=\"#000000\" font-family=\"Times,serif\" font-size=\"14.00\" text-anchor=\"middle\" x=\"208\" y=\"-91.3\">output:</text>\n<polyline fill=\"none\" points=\"237,-83.5 237,-129.5 \" stroke=\"#000000\"/>\n<text fill=\"#000000\" font-family=\"Times,serif\" font-size=\"14.00\" text-anchor=\"middle\" x=\"284.5\" y=\"-114.3\">(None, 6400)</text>\n<polyline fill=\"none\" points=\"237,-106.5 332,-106.5 \" stroke=\"#000000\"/>\n<text fill=\"#000000\" font-family=\"Times,serif\" font-size=\"14.00\" text-anchor=\"middle\" x=\"284.5\" y=\"-91.3\">(None, 128)</text>\n</g>\n<!-- 139803138036064&#45;&gt;139803138037520 -->\n<g class=\"edge\" id=\"edge5\">\n<title>139803138036064-&gt;139803138037520</title>\n<path d=\"M202,-166.3799C202,-158.1745 202,-148.7679 202,-139.8786\" fill=\"none\" stroke=\"#000000\"/>\n<polygon fill=\"#000000\" points=\"205.5001,-139.784 202,-129.784 198.5001,-139.784 205.5001,-139.784\" stroke=\"#000000\"/>\n</g>\n<!-- 139803137565920 -->\n<g class=\"node\" id=\"node7\">\n<title>139803137565920</title>\n<polygon fill=\"none\" points=\"76,-.5 76,-46.5 328,-46.5 328,-.5 76,-.5\" stroke=\"#000000\"/>\n<text fill=\"#000000\" font-family=\"Times,serif\" font-size=\"14.00\" text-anchor=\"middle\" x=\"129.5\" y=\"-19.8\">dense_2: Dense</text>\n<polyline fill=\"none\" points=\"183,-.5 183,-46.5 \" stroke=\"#000000\"/>\n<text fill=\"#000000\" font-family=\"Times,serif\" font-size=\"14.00\" text-anchor=\"middle\" x=\"212\" y=\"-31.3\">input:</text>\n<polyline fill=\"none\" points=\"183,-23.5 241,-23.5 \" stroke=\"#000000\"/>\n<text fill=\"#000000\" font-family=\"Times,serif\" font-size=\"14.00\" text-anchor=\"middle\" x=\"212\" y=\"-8.3\">output:</text>\n<polyline fill=\"none\" points=\"241,-.5 241,-46.5 \" stroke=\"#000000\"/>\n<text fill=\"#000000\" font-family=\"Times,serif\" font-size=\"14.00\" text-anchor=\"middle\" x=\"284.5\" y=\"-31.3\">(None, 128)</text>\n<polyline fill=\"none\" points=\"241,-23.5 328,-23.5 \" stroke=\"#000000\"/>\n<text fill=\"#000000\" font-family=\"Times,serif\" font-size=\"14.00\" text-anchor=\"middle\" x=\"284.5\" y=\"-8.3\">(None, 3)</text>\n</g>\n<!-- 139803138037520&#45;&gt;139803137565920 -->\n<g class=\"edge\" id=\"edge6\">\n<title>139803138037520-&gt;139803137565920</title>\n<path d=\"M202,-83.3799C202,-75.1745 202,-65.7679 202,-56.8786\" fill=\"none\" stroke=\"#000000\"/>\n<polygon fill=\"#000000\" points=\"205.5001,-56.784 202,-46.784 198.5001,-56.784 205.5001,-56.784\" stroke=\"#000000\"/>\n</g>\n</g>\n</svg>"
          },
          "metadata": {
            "tags": []
          },
          "execution_count": 15
        }
      ]
    },
    {
      "cell_type": "code",
      "metadata": {
        "id": "tPjAd1sJzvUU",
        "colab_type": "code",
        "colab": {
          "base_uri": "https://localhost:8080/",
          "height": 1000
        },
        "outputId": "04ad9d7e-8bcf-48d7-b7af-16ac76c0c8c0"
      },
      "source": [
        "history = model.fit_generator(\n",
        "    train_generator,\n",
        "    steps_per_epoch=45/3,\n",
        "    epochs=50,\n",
        "    validation_data=test_generator,\n",
        "    validation_steps= 15/3\n",
        ")"
      ],
      "execution_count": 16,
      "outputs": [
        {
          "output_type": "stream",
          "text": [
            "WARNING:tensorflow:From /usr/local/lib/python3.6/dist-packages/tensorflow_core/python/ops/math_grad.py:1424: where (from tensorflow.python.ops.array_ops) is deprecated and will be removed in a future version.\n",
            "Instructions for updating:\n",
            "Use tf.where in 2.0, which has the same broadcast rule as np.where\n",
            "WARNING:tensorflow:From /usr/local/lib/python3.6/dist-packages/keras/backend/tensorflow_backend.py:1033: The name tf.assign_add is deprecated. Please use tf.compat.v1.assign_add instead.\n",
            "\n",
            "WARNING:tensorflow:From /usr/local/lib/python3.6/dist-packages/keras/backend/tensorflow_backend.py:1020: The name tf.assign is deprecated. Please use tf.compat.v1.assign instead.\n",
            "\n",
            "WARNING:tensorflow:From /usr/local/lib/python3.6/dist-packages/keras/backend/tensorflow_backend.py:3005: The name tf.Session is deprecated. Please use tf.compat.v1.Session instead.\n",
            "\n",
            "Epoch 1/50\n",
            "WARNING:tensorflow:From /usr/local/lib/python3.6/dist-packages/keras/backend/tensorflow_backend.py:190: The name tf.get_default_session is deprecated. Please use tf.compat.v1.get_default_session instead.\n",
            "\n",
            "WARNING:tensorflow:From /usr/local/lib/python3.6/dist-packages/keras/backend/tensorflow_backend.py:197: The name tf.ConfigProto is deprecated. Please use tf.compat.v1.ConfigProto instead.\n",
            "\n",
            "WARNING:tensorflow:From /usr/local/lib/python3.6/dist-packages/keras/backend/tensorflow_backend.py:207: The name tf.global_variables is deprecated. Please use tf.compat.v1.global_variables instead.\n",
            "\n",
            "WARNING:tensorflow:From /usr/local/lib/python3.6/dist-packages/keras/backend/tensorflow_backend.py:216: The name tf.is_variable_initialized is deprecated. Please use tf.compat.v1.is_variable_initialized instead.\n",
            "\n",
            "WARNING:tensorflow:From /usr/local/lib/python3.6/dist-packages/keras/backend/tensorflow_backend.py:223: The name tf.variables_initializer is deprecated. Please use tf.compat.v1.variables_initializer instead.\n",
            "\n",
            "15/15 [==============================] - 14s 934ms/step - loss: 0.9762 - acc: 0.6000 - val_loss: 1.4127 - val_acc: 0.4000\n",
            "Epoch 2/50\n",
            "15/15 [==============================] - 0s 7ms/step - loss: 0.1878 - acc: 0.9556 - val_loss: 1.8957 - val_acc: 0.6000\n",
            "Epoch 3/50\n",
            "15/15 [==============================] - 0s 9ms/step - loss: 0.0147 - acc: 1.0000 - val_loss: 2.8728 - val_acc: 0.6000\n",
            "Epoch 4/50\n",
            "15/15 [==============================] - 0s 8ms/step - loss: 0.0032 - acc: 1.0000 - val_loss: 3.2023 - val_acc: 0.6000\n",
            "Epoch 5/50\n",
            "15/15 [==============================] - 0s 9ms/step - loss: 0.0011 - acc: 1.0000 - val_loss: 3.3365 - val_acc: 0.5333\n",
            "Epoch 6/50\n",
            "15/15 [==============================] - 0s 10ms/step - loss: 3.5113e-04 - acc: 1.0000 - val_loss: 3.4586 - val_acc: 0.6000\n",
            "Epoch 7/50\n",
            "15/15 [==============================] - 0s 9ms/step - loss: 1.8344e-04 - acc: 1.0000 - val_loss: 3.5528 - val_acc: 0.6000\n",
            "Epoch 8/50\n",
            "15/15 [==============================] - 0s 8ms/step - loss: 1.5095e-04 - acc: 1.0000 - val_loss: 3.6210 - val_acc: 0.6000\n",
            "Epoch 9/50\n",
            "15/15 [==============================] - 0s 9ms/step - loss: 1.3073e-04 - acc: 1.0000 - val_loss: 3.6703 - val_acc: 0.6000\n",
            "Epoch 10/50\n",
            "15/15 [==============================] - 0s 9ms/step - loss: 1.1294e-04 - acc: 1.0000 - val_loss: 3.7250 - val_acc: 0.6000\n",
            "Epoch 11/50\n",
            "15/15 [==============================] - 0s 9ms/step - loss: 1.0078e-04 - acc: 1.0000 - val_loss: 3.7702 - val_acc: 0.6000\n",
            "Epoch 12/50\n",
            "15/15 [==============================] - 0s 9ms/step - loss: 9.1819e-05 - acc: 1.0000 - val_loss: 3.8144 - val_acc: 0.6000\n",
            "Epoch 13/50\n",
            "15/15 [==============================] - 0s 8ms/step - loss: 8.3073e-05 - acc: 1.0000 - val_loss: 3.8566 - val_acc: 0.6000\n",
            "Epoch 14/50\n",
            "15/15 [==============================] - 0s 9ms/step - loss: 7.3825e-05 - acc: 1.0000 - val_loss: 3.9017 - val_acc: 0.6000\n",
            "Epoch 15/50\n",
            "15/15 [==============================] - 0s 9ms/step - loss: 6.5275e-05 - acc: 1.0000 - val_loss: 3.9399 - val_acc: 0.6000\n",
            "Epoch 16/50\n",
            "15/15 [==============================] - 0s 9ms/step - loss: 5.7398e-05 - acc: 1.0000 - val_loss: 3.9713 - val_acc: 0.6000\n",
            "Epoch 17/50\n",
            "15/15 [==============================] - 0s 9ms/step - loss: 4.6930e-05 - acc: 1.0000 - val_loss: 4.0025 - val_acc: 0.6000\n",
            "Epoch 18/50\n",
            "15/15 [==============================] - 0s 9ms/step - loss: 3.6573e-05 - acc: 1.0000 - val_loss: 4.0359 - val_acc: 0.6000\n",
            "Epoch 19/50\n",
            "15/15 [==============================] - 0s 8ms/step - loss: 2.9393e-05 - acc: 1.0000 - val_loss: 4.0681 - val_acc: 0.6000\n",
            "Epoch 20/50\n",
            "15/15 [==============================] - 0s 9ms/step - loss: 2.2325e-05 - acc: 1.0000 - val_loss: 4.1014 - val_acc: 0.6000\n",
            "Epoch 21/50\n",
            "15/15 [==============================] - 0s 8ms/step - loss: 1.7601e-05 - acc: 1.0000 - val_loss: 4.1207 - val_acc: 0.6000\n",
            "Epoch 22/50\n",
            "15/15 [==============================] - 0s 10ms/step - loss: 1.3211e-05 - acc: 1.0000 - val_loss: 4.1645 - val_acc: 0.5333\n",
            "Epoch 23/50\n",
            "15/15 [==============================] - 0s 9ms/step - loss: 1.0753e-05 - acc: 1.0000 - val_loss: 4.1828 - val_acc: 0.5333\n",
            "Epoch 24/50\n",
            "15/15 [==============================] - 0s 8ms/step - loss: 8.7845e-06 - acc: 1.0000 - val_loss: 4.2209 - val_acc: 0.5333\n",
            "Epoch 25/50\n",
            "15/15 [==============================] - 0s 9ms/step - loss: 7.1222e-06 - acc: 1.0000 - val_loss: 4.2496 - val_acc: 0.5333\n",
            "Epoch 26/50\n",
            "15/15 [==============================] - 0s 9ms/step - loss: 6.1672e-06 - acc: 1.0000 - val_loss: 4.2917 - val_acc: 0.5333\n",
            "Epoch 27/50\n",
            "15/15 [==============================] - 0s 9ms/step - loss: 5.2174e-06 - acc: 1.0000 - val_loss: 4.3101 - val_acc: 0.5333\n",
            "Epoch 28/50\n",
            "15/15 [==============================] - 0s 8ms/step - loss: 4.4055e-06 - acc: 1.0000 - val_loss: 4.3385 - val_acc: 0.5333\n",
            "Epoch 29/50\n",
            "15/15 [==============================] - 0s 8ms/step - loss: 3.8531e-06 - acc: 1.0000 - val_loss: 4.3668 - val_acc: 0.5333\n",
            "Epoch 30/50\n",
            "15/15 [==============================] - 0s 10ms/step - loss: 3.3392e-06 - acc: 1.0000 - val_loss: 4.3988 - val_acc: 0.5333\n",
            "Epoch 31/50\n",
            "15/15 [==============================] - 0s 9ms/step - loss: 3.0399e-06 - acc: 1.0000 - val_loss: 4.4352 - val_acc: 0.5333\n",
            "Epoch 32/50\n",
            "15/15 [==============================] - 0s 8ms/step - loss: 2.7087e-06 - acc: 1.0000 - val_loss: 4.4461 - val_acc: 0.5333\n",
            "Epoch 33/50\n",
            "15/15 [==============================] - 0s 8ms/step - loss: 2.3921e-06 - acc: 1.0000 - val_loss: 4.4710 - val_acc: 0.5333\n",
            "Epoch 34/50\n",
            "15/15 [==============================] - 0s 9ms/step - loss: 2.1537e-06 - acc: 1.0000 - val_loss: 4.4809 - val_acc: 0.5333\n",
            "Epoch 35/50\n",
            "15/15 [==============================] - 0s 8ms/step - loss: 1.9643e-06 - acc: 1.0000 - val_loss: 4.5034 - val_acc: 0.5333\n",
            "Epoch 36/50\n",
            "15/15 [==============================] - 0s 9ms/step - loss: 1.7590e-06 - acc: 1.0000 - val_loss: 4.5278 - val_acc: 0.5333\n",
            "Epoch 37/50\n",
            "15/15 [==============================] - 0s 9ms/step - loss: 1.6173e-06 - acc: 1.0000 - val_loss: 4.5425 - val_acc: 0.5333\n",
            "Epoch 38/50\n",
            "15/15 [==============================] - 0s 8ms/step - loss: 1.4954e-06 - acc: 1.0000 - val_loss: 4.5544 - val_acc: 0.5333\n",
            "Epoch 39/50\n",
            "15/15 [==============================] - 0s 9ms/step - loss: 1.3736e-06 - acc: 1.0000 - val_loss: 4.5737 - val_acc: 0.5333\n",
            "Epoch 40/50\n",
            "15/15 [==============================] - 0s 9ms/step - loss: 1.2822e-06 - acc: 1.0000 - val_loss: 4.5871 - val_acc: 0.5333\n",
            "Epoch 41/50\n",
            "15/15 [==============================] - 0s 8ms/step - loss: 1.1921e-06 - acc: 1.0000 - val_loss: 4.5991 - val_acc: 0.5333\n",
            "Epoch 42/50\n",
            "15/15 [==============================] - 0s 8ms/step - loss: 1.1259e-06 - acc: 1.0000 - val_loss: 4.6178 - val_acc: 0.5333\n",
            "Epoch 43/50\n",
            "15/15 [==============================] - 0s 9ms/step - loss: 1.0464e-06 - acc: 1.0000 - val_loss: 4.6205 - val_acc: 0.5333\n",
            "Epoch 44/50\n",
            "15/15 [==============================] - 0s 8ms/step - loss: 9.7089e-07 - acc: 1.0000 - val_loss: 4.6415 - val_acc: 0.5333\n",
            "Epoch 45/50\n",
            "15/15 [==============================] - 0s 9ms/step - loss: 9.1129e-07 - acc: 1.0000 - val_loss: 4.6562 - val_acc: 0.5333\n",
            "Epoch 46/50\n",
            "15/15 [==============================] - 0s 8ms/step - loss: 8.6096e-07 - acc: 1.0000 - val_loss: 4.6712 - val_acc: 0.5333\n",
            "Epoch 47/50\n",
            "15/15 [==============================] - 0s 9ms/step - loss: 8.1725e-07 - acc: 1.0000 - val_loss: 4.6863 - val_acc: 0.5333\n",
            "Epoch 48/50\n",
            "15/15 [==============================] - 0s 9ms/step - loss: 7.9870e-07 - acc: 1.0000 - val_loss: 4.6957 - val_acc: 0.5333\n",
            "Epoch 49/50\n",
            "15/15 [==============================] - 0s 8ms/step - loss: 7.5102e-07 - acc: 1.0000 - val_loss: 4.7078 - val_acc: 0.5333\n",
            "Epoch 50/50\n",
            "15/15 [==============================] - 0s 9ms/step - loss: 7.0201e-07 - acc: 1.0000 - val_loss: 4.7166 - val_acc: 0.5333\n"
          ],
          "name": "stdout"
        }
      ]
    },
    {
      "cell_type": "code",
      "metadata": {
        "id": "g8WONfOb0a73",
        "colab_type": "code",
        "colab": {
          "base_uri": "https://localhost:8080/",
          "height": 51
        },
        "outputId": "07b46509-0ef7-49ce-c372-47f17aa0063a"
      },
      "source": [
        "evaluation = model.evaluate(test_generator, steps=15/3)\n",
        "print(evaluation)"
      ],
      "execution_count": 17,
      "outputs": [
        {
          "output_type": "stream",
          "text": [
            "5/5 [==============================] - 0s 3ms/step\n",
            "[4.716638562594744, 0.5333333373069763]\n"
          ],
          "name": "stdout"
        }
      ]
    },
    {
      "cell_type": "markdown",
      "metadata": {
        "id": "9JD-iKDvnDb4",
        "colab_type": "text"
      },
      "source": [
        "validation에서 정확도가 0.5 밖에 안나옴. 그런데 train에선 정확도가 1까지나 됨. 결국 overfitting 모델임을 알 수 있음"
      ]
    },
    {
      "cell_type": "code",
      "metadata": {
        "id": "WpI9rUdN2nCF",
        "colab_type": "code",
        "colab": {
          "base_uri": "https://localhost:8080/",
          "height": 306
        },
        "outputId": "3a2d7b6f-8f9e-4b88-ed58-314ebfd72a80"
      },
      "source": [
        "output = model.predict_generator(\n",
        "    test_generator,\n",
        "    steps=5\n",
        ")\n",
        "\n",
        "print(test_generator.class_indices)\n",
        "print(output)\n",
        "output_onlyclass = np.argmax(output, axis=1)\n",
        "print(output_onlyclass)"
      ],
      "execution_count": 18,
      "outputs": [
        {
          "output_type": "stream",
          "text": [
            "{'circle': 0, 'rectangle': 1, 'triangle': 2}\n",
            "[[3.40829570e-06 1.66499376e-05 9.99979973e-01]\n",
            " [3.63452806e-08 9.24670758e-08 9.99999881e-01]\n",
            " [3.34509388e-02 9.11053598e-01 5.54954372e-02]\n",
            " [1.17494527e-03 7.64888773e-06 9.98817384e-01]\n",
            " [1.15615606e-09 5.29118402e-08 1.00000000e+00]\n",
            " [2.07742420e-03 1.05858322e-04 9.97816682e-01]\n",
            " [4.19618118e-06 1.13935421e-05 9.99984384e-01]\n",
            " [1.38896048e-05 1.57054586e-07 9.99985933e-01]\n",
            " [2.12665732e-10 6.85129820e-08 9.99999881e-01]\n",
            " [1.50348172e-01 7.74943113e-01 7.47086629e-02]\n",
            " [9.99996305e-01 3.18461321e-06 5.06252150e-07]\n",
            " [9.23216021e-07 1.62690458e-06 9.99997497e-01]\n",
            " [1.18008196e-04 2.58571744e-01 7.41310298e-01]\n",
            " [4.62757407e-06 4.95340601e-06 9.99990463e-01]\n",
            " [4.90101274e-06 4.41013093e-08 9.99995112e-01]]\n",
            "[2 2 1 2 2 2 2 2 2 1 0 2 2 2 2]\n"
          ],
          "name": "stdout"
        }
      ]
    },
    {
      "cell_type": "code",
      "metadata": {
        "id": "TAJeTtHfe_P9",
        "colab_type": "code",
        "colab": {
          "base_uri": "https://localhost:8080/",
          "height": 279
        },
        "outputId": "e7f86b1b-6e27-4e07-bca3-ab223150c3f1"
      },
      "source": [
        "plot_accloss(history)"
      ],
      "execution_count": 19,
      "outputs": [
        {
          "output_type": "display_data",
          "data": {
            "image/png": "[encoded data removed]",
            "text/plain": [
              "<Figure size 432x288 with 2 Axes>"
            ]
          },
          "metadata": {
            "tags": []
          }
        }
      ]
    },
    {
      "cell_type": "code",
      "metadata": {
        "id": "HbqG_hrC3CTO",
        "colab_type": "code",
        "colab": {
          "base_uri": "https://localhost:8080/",
          "height": 272
        },
        "outputId": "63d13eaf-89f2-4122-84c1-407e8e405e1d"
      },
      "source": [
        "np.set_printoptions(formatter={'float': lambda x: '{:0.3f}'.format(x)})\n",
        "output"
      ],
      "execution_count": 20,
      "outputs": [
        {
          "output_type": "execute_result",
          "data": {
            "text/plain": [
              "array([[0.001, 0.000, 0.999],\n",
              "       [0.002, 0.000, 0.998],\n",
              "       [0.000, 0.000, 1.000],\n",
              "       [0.000, 0.000, 1.000],\n",
              "       [0.092, 0.777, 0.131],\n",
              "       [0.000, 0.000, 1.000],\n",
              "       [0.000, 0.184, 0.816],\n",
              "       [0.000, 0.000, 1.000],\n",
              "       [1.000, 0.000, 0.000],\n",
              "       [0.000, 0.000, 1.000],\n",
              "       [0.000, 0.000, 1.000],\n",
              "       [0.000, 0.000, 1.000],\n",
              "       [0.000, 0.000, 1.000],\n",
              "       [0.072, 0.851, 0.077],\n",
              "       [0.000, 0.000, 1.000]], dtype=float32)"
            ]
          },
          "metadata": {
            "tags": []
          },
          "execution_count": 20
        }
      ]
    },
    {
      "cell_type": "markdown",
      "metadata": {
        "id": "1QXLhlbIOZKL",
        "colab_type": "text"
      },
      "source": [
        "## Augmentation 샘플데이터 생성 및 저장.\n",
        "keras에서 제공하는 augmentation 라이브러리는 데이터를 생성하지 않고 내부적으로만 가지고 저장하게 됨. augmentation이 잘 만들어지는지 확인하기 위해서 샘플데이터를 생성하는 코드가 필요 함."
      ]
    },
    {
      "cell_type": "code",
      "metadata": {
        "id": "n8WBrc87bYaN",
        "colab_type": "code",
        "colab": {}
      },
      "source": [
        "from keras.preprocessing.image import ImageDataGenerator, img_to_array, load_img\n",
        "import numpy as np\n",
        "import os\n",
        "import shutil"
      ],
      "execution_count": 0,
      "outputs": []
    },
    {
      "cell_type": "code",
      "metadata": {
        "id": "_lJDMhfQbweX",
        "colab_type": "code",
        "colab": {}
      },
      "source": [
        "np.random.seed(5)\n",
        "\n",
        "data_aug_gen = ImageDataGenerator(\n",
        "    rescale=1./255,\n",
        "    rotation_range=10,    # 원본이미지 회전 최대 각도\n",
        "    width_shift_range=0.2,    # 0~1사이, 전체 넓이의 비율(단위: pixcel)\n",
        "    height_shift_range=0.2,\n",
        "    shear_range=0.7,    # 이미지 뭉게기, \n",
        "    zoom_range=[0.9, 2.2],    # [lower, upper] 비율로 확대\n",
        "    horizontal_flip=True,    # 수평뒤집기\n",
        "    vertical_flip=True,    # 수직뒤집기\n",
        ")"
      ],
      "execution_count": 0,
      "outputs": []
    },
    {
      "cell_type": "code",
      "metadata": {
        "id": "NX5nYeT0dCMC",
        "colab_type": "code",
        "colab": {
          "base_uri": "https://localhost:8080/",
          "height": 34
        },
        "outputId": "df94aa3f-b217-4951-962c-2a6db3f77f9e"
      },
      "source": [
        "origin_path = 'study-book-keras_with_blocks/dataset \\\n",
        "/handwriting_shape/train/triangle/triangle001.png'\n",
        "dirname = 'augment_sample'\n",
        "\n",
        "make_dir(dirname)\n",
        "shutil.copy(origin_path, dirname+'/origin_tri.png')"
      ],
      "execution_count": 68,
      "outputs": [
        {
          "output_type": "execute_result",
          "data": {
            "text/plain": [
              "((24, 24, 3), numpy.ndarray)"
            ]
          },
          "metadata": {
            "tags": []
          },
          "execution_count": 68
        }
      ]
    },
    {
      "cell_type": "code",
      "metadata": {
        "id": "9uBamYXgrXbf",
        "colab_type": "code",
        "colab": {}
      },
      "source": [
        "# 파일 읽는 법 1.\n",
        "sample_img = load_img(origin_path)\n",
        "x = img_to_array(sample_img)\n",
        "x.shape, type(x)"
      ],
      "execution_count": 0,
      "outputs": []
    },
    {
      "cell_type": "code",
      "metadata": {
        "id": "ZdR0F0iVvHl1",
        "colab_type": "code",
        "colab": {
          "base_uri": "https://localhost:8080/",
          "height": 34
        },
        "outputId": "05776acf-71d9-47f1-b2e2-3391997e9943"
      },
      "source": [
        "# 파일 읽는 법 2.\n",
        "test = cv2.imread(origin_path).astype('float32')\n",
        "type(test)"
      ],
      "execution_count": 69,
      "outputs": [
        {
          "output_type": "execute_result",
          "data": {
            "text/plain": [
              "numpy.ndarray"
            ]
          },
          "metadata": {
            "tags": []
          },
          "execution_count": 69
        }
      ]
    },
    {
      "cell_type": "code",
      "metadata": {
        "id": "-cSRXiZpwG-x",
        "colab_type": "code",
        "colab": {
          "base_uri": "https://localhost:8080/",
          "height": 34
        },
        "outputId": "0af25949-feaa-4421-c25e-6b5a41e44643"
      },
      "source": [
        "(1,) + x.shape"
      ],
      "execution_count": 38,
      "outputs": [
        {
          "output_type": "execute_result",
          "data": {
            "text/plain": [
              "(1, 24, 24, 3)"
            ]
          },
          "metadata": {
            "tags": []
          },
          "execution_count": 38
        }
      ]
    },
    {
      "cell_type": "code",
      "metadata": {
        "id": "Zh36f3xlvfR8",
        "colab_type": "code",
        "colab": {
          "base_uri": "https://localhost:8080/",
          "height": 34
        },
        "outputId": "fb81d417-b525-40f8-efec-e1d98f6a33da"
      },
      "source": [
        "x2 = x.reshape((1, ) + x.shape)\n",
        "x2.shape"
      ],
      "execution_count": 39,
      "outputs": [
        {
          "output_type": "execute_result",
          "data": {
            "text/plain": [
              "(1, 24, 24, 3)"
            ]
          },
          "metadata": {
            "tags": []
          },
          "execution_count": 39
        }
      ]
    },
    {
      "cell_type": "code",
      "metadata": {
        "id": "eZ0VUf8Cvhs5",
        "colab_type": "code",
        "colab": {
          "base_uri": "https://localhost:8080/",
          "height": 850
        },
        "outputId": "e2485d47-641d-4651-a5c3-b54fb689aaac"
      },
      "source": [
        "x2"
      ],
      "execution_count": 40,
      "outputs": [
        {
          "output_type": "execute_result",
          "data": {
            "text/plain": [
              "array([[[[255.000, 255.000, 255.000],\n",
              "         [255.000, 255.000, 255.000],\n",
              "         [255.000, 255.000, 255.000],\n",
              "         ...,\n",
              "         [255.000, 255.000, 255.000],\n",
              "         [255.000, 255.000, 255.000],\n",
              "         [255.000, 255.000, 255.000]],\n",
              "\n",
              "        [[255.000, 255.000, 255.000],\n",
              "         [255.000, 255.000, 255.000],\n",
              "         [255.000, 255.000, 255.000],\n",
              "         ...,\n",
              "         [255.000, 255.000, 255.000],\n",
              "         [255.000, 255.000, 255.000],\n",
              "         [255.000, 255.000, 255.000]],\n",
              "\n",
              "        [[255.000, 255.000, 255.000],\n",
              "         [255.000, 255.000, 255.000],\n",
              "         [255.000, 255.000, 255.000],\n",
              "         ...,\n",
              "         [255.000, 255.000, 255.000],\n",
              "         [255.000, 255.000, 255.000],\n",
              "         [255.000, 255.000, 255.000]],\n",
              "\n",
              "        ...,\n",
              "\n",
              "        [[255.000, 255.000, 255.000],\n",
              "         [255.000, 255.000, 255.000],\n",
              "         [255.000, 255.000, 255.000],\n",
              "         ...,\n",
              "         [255.000, 255.000, 255.000],\n",
              "         [255.000, 255.000, 255.000],\n",
              "         [255.000, 255.000, 255.000]],\n",
              "\n",
              "        [[255.000, 255.000, 255.000],\n",
              "         [255.000, 255.000, 255.000],\n",
              "         [255.000, 255.000, 255.000],\n",
              "         ...,\n",
              "         [255.000, 255.000, 255.000],\n",
              "         [255.000, 255.000, 255.000],\n",
              "         [255.000, 255.000, 255.000]],\n",
              "\n",
              "        [[255.000, 255.000, 255.000],\n",
              "         [255.000, 255.000, 255.000],\n",
              "         [255.000, 255.000, 255.000],\n",
              "         ...,\n",
              "         [255.000, 255.000, 255.000],\n",
              "         [255.000, 255.000, 255.000],\n",
              "         [255.000, 255.000, 255.000]]]], dtype=float32)"
            ]
          },
          "metadata": {
            "tags": []
          },
          "execution_count": 40
        }
      ]
    },
    {
      "cell_type": "code",
      "metadata": {
        "id": "k575kmz6vlnt",
        "colab_type": "code",
        "colab": {}
      },
      "source": [
        "i = 0\n",
        "\n",
        "# 아래 for는 무한으로 반복됨. 원하는 수가 되면 break가 필수\n",
        "for batch in data_aug_gen.flow(x2, batch_size=1, save_to_dir='augment_sample', save_prefix='tri', save_format='png'):\n",
        "  i += 1\n",
        "  if i > 30:\n",
        "    break"
      ],
      "execution_count": 0,
      "outputs": []
    },
    {
      "cell_type": "markdown",
      "metadata": {
        "id": "8GKnkp-xq_3y",
        "colab_type": "text"
      },
      "source": [
        "#### 파일 브라우저로 바로다운"
      ]
    },
    {
      "cell_type": "code",
      "metadata": {
        "id": "bpQ6hluWyvAt",
        "colab_type": "code",
        "colab": {}
      },
      "source": [
        "from google.colab import files"
      ],
      "execution_count": 0,
      "outputs": []
    },
    {
      "cell_type": "code",
      "metadata": {
        "id": "7lCefDRFzSQE",
        "colab_type": "code",
        "colab": {
          "base_uri": "https://localhost:8080/",
          "height": 578
        },
        "outputId": "42dd8098-fcc8-46ac-bbf0-08761b7fd51f"
      },
      "source": [
        "!zip -r augment_sample.zip augment_sample\n",
        "files.download('augment_sample.zip')"
      ],
      "execution_count": 71,
      "outputs": [
        {
          "output_type": "stream",
          "text": [
            "updating: augment_sample/ (stored 0%)\n",
            "updating: augment_sample/tri_0_3307.png (stored 0%)\n",
            "updating: augment_sample/tri_0_4311.png (stored 0%)\n",
            "updating: augment_sample/tri_0_6554.png (stored 0%)\n",
            "updating: augment_sample/tri_0_8266.png (stored 0%)\n",
            "updating: augment_sample/tri_0_4604.png (stored 0%)\n",
            "updating: augment_sample/tri_0_3182.png (stored 0%)\n",
            "updating: augment_sample/tri_0_9286.png (stored 0%)\n",
            "updating: augment_sample/tri_0_7123.png (stored 0%)\n",
            "updating: augment_sample/tri_0_6409.png (stored 0%)\n",
            "updating: augment_sample/tri_0_8581.png (stored 0%)\n",
            "updating: augment_sample/tri_0_8499.png (stored 0%)\n",
            "updating: augment_sample/tri_0_7807.png (stored 0%)\n",
            "updating: augment_sample/tri_0_2194.png (stored 0%)\n",
            "updating: augment_sample/tri_0_1850.png (stored 0%)\n",
            "updating: augment_sample/tri_0_1862.png (stored 0%)\n",
            "updating: augment_sample/tri_0_5594.png (stored 0%)\n",
            "updating: augment_sample/tri_0_1137.png (stored 0%)\n",
            "updating: augment_sample/tri_0_2252.png (stored 0%)\n",
            "updating: augment_sample/tri_0_2127.png (stored 0%)\n",
            "updating: augment_sample/tri_0_2773.png (stored 0%)\n",
            "updating: augment_sample/tri_0_6022.png (stored 0%)\n",
            "updating: augment_sample/tri_0_6069.png (stored 0%)\n",
            "updating: augment_sample/tri_0_6263.png (stored 0%)\n",
            "updating: augment_sample/tri_0_914.png (stored 0%)\n",
            "updating: augment_sample/tri_0_2271.png (stored 0%)\n",
            "updating: augment_sample/tri_0_7322.png (stored 0%)\n",
            "updating: augment_sample/tri_0_4487.png (stored 0%)\n",
            "updating: augment_sample/tri_0_6641.png (stored 0%)\n",
            "updating: augment_sample/tri_0_3693.png (stored 0%)\n",
            "updating: augment_sample/tri_0_8904.png (stored 0%)\n",
            "updating: augment_sample/tri_0_7629.png (stored 0%)\n",
            "  adding: augment_sample/origin_tri.png (deflated 4%)\n"
          ],
          "name": "stdout"
        }
      ]
    },
    {
      "cell_type": "markdown",
      "metadata": {
        "id": "3IV38tZXuW2m",
        "colab_type": "text"
      },
      "source": [
        "## 시도2. Augmentation 예외가 많은 test set을 평가한다.\n"
      ]
    },
    {
      "cell_type": "code",
      "metadata": {
        "id": "8mFAeLSQFO10",
        "colab_type": "code",
        "colab": {
          "base_uri": "https://localhost:8080/",
          "height": 34
        },
        "outputId": "f059d220-f12f-4837-8fcd-8bc2338d12bb"
      },
      "source": [
        "train_datagen = ImageDataGenerator(\n",
        "    rescale=1./255,\n",
        "    rotation_range=10,\n",
        "    width_shift_range=0.2,\n",
        "    height_shift_range=0.2,\n",
        "    shear_range=0.7,\n",
        "    zoom_range=[0.9, 2.2],\n",
        "    horizontal_flip=True,\n",
        "    vertical_flip=True,\n",
        ")\n",
        "train_generator = train_datagen.flow_from_directory(\n",
        "    'study-book-keras_with_blocks/dataset/handwriting_shape/train/',\n",
        "    target_size=(24, 24),\n",
        "    class_mode='categorical',\n",
        "    batch_size=3\n",
        ")"
      ],
      "execution_count": 39,
      "outputs": [
        {
          "output_type": "stream",
          "text": [
            "Found 45 images belonging to 3 classes.\n"
          ],
          "name": "stdout"
        }
      ]
    },
    {
      "cell_type": "code",
      "metadata": {
        "id": "juFVi0rqo5ce",
        "colab_type": "code",
        "colab": {
          "base_uri": "https://localhost:8080/",
          "height": 34
        },
        "outputId": "96d8f8e6-510d-4948-c941-c379a8f78707"
      },
      "source": [
        "!ls study-book-keras_with_blocks/dataset/hard_handwriting_shape/test/circle/"
      ],
      "execution_count": 40,
      "outputs": [
        {
          "output_type": "stream",
          "text": [
            "cir_0_3525.png\tcir_0_3816.png\tcir_0_6766.png\tcir_0_7439.png\tcir_0_8406.png\n"
          ],
          "name": "stdout"
        }
      ]
    },
    {
      "cell_type": "code",
      "metadata": {
        "id": "zIrai5HAnEE8",
        "colab_type": "code",
        "colab": {
          "base_uri": "https://localhost:8080/",
          "height": 34
        },
        "outputId": "5f883cd5-0bac-4c96-e587-d3e24c173ea2"
      },
      "source": [
        "test_datagen = ImageDataGenerator(\n",
        "    rescale=1./255\n",
        ")\n",
        "test_generator = test_datagen.flow_from_directory(\n",
        "    'study-book-keras_with_blocks/dataset/hard_handwriting_shape/test/',\n",
        "    target_size=(24, 24),\n",
        "    class_mode='categorical',\n",
        "    batch_size=3\n",
        ")"
      ],
      "execution_count": 41,
      "outputs": [
        {
          "output_type": "stream",
          "text": [
            "Found 15 images belonging to 3 classes.\n"
          ],
          "name": "stdout"
        }
      ]
    },
    {
      "cell_type": "code",
      "metadata": {
        "id": "Tt99DhucpAkB",
        "colab_type": "code",
        "colab": {}
      },
      "source": [
        "model2 = CNN()"
      ],
      "execution_count": 0,
      "outputs": []
    },
    {
      "cell_type": "markdown",
      "metadata": {
        "id": "-we1vtjMrRE3",
        "colab_type": "text"
      },
      "source": [
        "#### augmentation이 들어갈때의 fit_generator의 주의할 점.\n",
        "ImageDataGenerator를 통해 데이터를 부풀릴 때에는 하나의 샘플로 여러개의 결과가 나타남. 즉, 요청하는 `steps_per_epoch`에 따라 무한의 샘플이 만들어짐.\n",
        "\n",
        "`steps_per_epoch(전체 train데이터 수 / batch size) * 한 샘플당 얻고싶은 이미지 갯수`\n",
        "\n",
        "위의 공식을 활용하여 코딩을 진행! 해야함."
      ]
    },
    {
      "cell_type": "code",
      "metadata": {
        "id": "-fhyK54tp-gY",
        "colab_type": "code",
        "colab": {
          "base_uri": "https://localhost:8080/",
          "height": 1000
        },
        "outputId": "2cf99201-5de2-49d4-a36a-23f809d509ba"
      },
      "source": [
        "history = model2.fit_generator(\n",
        "    train_generator,\n",
        "    steps_per_epoch=15*5,    # !! 중요 !! : 한 샘플당 100장씩 augmentation 생성\n",
        "    epochs=80,\n",
        "    validation_data=test_generator,\n",
        "    validation_steps=5\n",
        ")"
      ],
      "execution_count": 43,
      "outputs": [
        {
          "output_type": "stream",
          "text": [
            "Epoch 1/80\n",
            "75/75 [==============================] - 1s 14ms/step - loss: 1.0276 - acc: 0.4489 - val_loss: 0.7304 - val_acc: 0.6667\n",
            "Epoch 2/80\n",
            "75/75 [==============================] - 1s 9ms/step - loss: 0.7129 - acc: 0.7067 - val_loss: 0.3908 - val_acc: 0.8000\n",
            "Epoch 3/80\n",
            "75/75 [==============================] - 1s 9ms/step - loss: 0.4270 - acc: 0.8400 - val_loss: 0.2390 - val_acc: 0.8667\n",
            "Epoch 4/80\n",
            "75/75 [==============================] - 1s 9ms/step - loss: 0.3244 - acc: 0.8756 - val_loss: 0.1687 - val_acc: 0.9333\n",
            "Epoch 5/80\n",
            "75/75 [==============================] - 1s 9ms/step - loss: 0.1671 - acc: 0.9467 - val_loss: 0.0825 - val_acc: 1.0000\n",
            "Epoch 6/80\n",
            "75/75 [==============================] - 1s 9ms/step - loss: 0.1592 - acc: 0.9467 - val_loss: 0.0389 - val_acc: 1.0000\n",
            "Epoch 7/80\n",
            "75/75 [==============================] - 1s 9ms/step - loss: 0.1431 - acc: 0.9467 - val_loss: 0.2892 - val_acc: 0.8667\n",
            "Epoch 8/80\n",
            "75/75 [==============================] - 1s 8ms/step - loss: 0.1070 - acc: 0.9689 - val_loss: 0.3412 - val_acc: 0.8000\n",
            "Epoch 9/80\n",
            "75/75 [==============================] - 1s 9ms/step - loss: 0.0878 - acc: 0.9644 - val_loss: 0.0342 - val_acc: 1.0000\n",
            "Epoch 10/80\n",
            "75/75 [==============================] - 1s 9ms/step - loss: 0.0426 - acc: 0.9867 - val_loss: 0.0049 - val_acc: 1.0000\n",
            "Epoch 11/80\n",
            "75/75 [==============================] - 1s 9ms/step - loss: 0.0392 - acc: 0.9822 - val_loss: 0.3467 - val_acc: 0.8000\n",
            "Epoch 12/80\n",
            "75/75 [==============================] - 1s 9ms/step - loss: 0.0621 - acc: 0.9822 - val_loss: 0.0215 - val_acc: 1.0000\n",
            "Epoch 13/80\n",
            "75/75 [==============================] - 1s 9ms/step - loss: 0.0638 - acc: 0.9778 - val_loss: 0.0210 - val_acc: 1.0000\n",
            "Epoch 14/80\n",
            "75/75 [==============================] - 1s 9ms/step - loss: 0.0333 - acc: 0.9867 - val_loss: 0.0240 - val_acc: 1.0000\n",
            "Epoch 15/80\n",
            "75/75 [==============================] - 1s 9ms/step - loss: 0.0054 - acc: 1.0000 - val_loss: 0.0149 - val_acc: 1.0000\n",
            "Epoch 16/80\n",
            "75/75 [==============================] - 1s 9ms/step - loss: 0.0050 - acc: 1.0000 - val_loss: 0.0588 - val_acc: 1.0000\n",
            "Epoch 17/80\n",
            "75/75 [==============================] - 1s 9ms/step - loss: 0.0797 - acc: 0.9689 - val_loss: 0.0178 - val_acc: 1.0000\n",
            "Epoch 18/80\n",
            "75/75 [==============================] - 1s 9ms/step - loss: 0.0678 - acc: 0.9733 - val_loss: 7.8598e-04 - val_acc: 1.0000\n",
            "Epoch 19/80\n",
            "75/75 [==============================] - 1s 9ms/step - loss: 0.0459 - acc: 0.9911 - val_loss: 0.0273 - val_acc: 1.0000\n",
            "Epoch 20/80\n",
            "75/75 [==============================] - 1s 9ms/step - loss: 0.0712 - acc: 0.9733 - val_loss: 0.0209 - val_acc: 1.0000\n",
            "Epoch 21/80\n",
            "75/75 [==============================] - 1s 9ms/step - loss: 0.0759 - acc: 0.9733 - val_loss: 0.0022 - val_acc: 1.0000\n",
            "Epoch 22/80\n",
            "75/75 [==============================] - 1s 9ms/step - loss: 0.0362 - acc: 0.9867 - val_loss: 0.0054 - val_acc: 1.0000\n",
            "Epoch 23/80\n",
            "75/75 [==============================] - 1s 9ms/step - loss: 0.0763 - acc: 0.9778 - val_loss: 0.0158 - val_acc: 1.0000\n",
            "Epoch 24/80\n",
            "75/75 [==============================] - 1s 9ms/step - loss: 0.0435 - acc: 0.9911 - val_loss: 0.0020 - val_acc: 1.0000\n",
            "Epoch 25/80\n",
            "75/75 [==============================] - 1s 9ms/step - loss: 0.0175 - acc: 0.9911 - val_loss: 3.0527e-04 - val_acc: 1.0000\n",
            "Epoch 26/80\n",
            "75/75 [==============================] - 1s 9ms/step - loss: 0.0124 - acc: 1.0000 - val_loss: 0.0025 - val_acc: 1.0000\n",
            "Epoch 27/80\n",
            "75/75 [==============================] - 1s 9ms/step - loss: 0.0134 - acc: 0.9956 - val_loss: 1.7486e-04 - val_acc: 1.0000\n",
            "Epoch 28/80\n",
            "75/75 [==============================] - 1s 9ms/step - loss: 0.0257 - acc: 0.9911 - val_loss: 7.2001e-04 - val_acc: 1.0000\n",
            "Epoch 29/80\n",
            "75/75 [==============================] - 1s 9ms/step - loss: 0.0546 - acc: 0.9778 - val_loss: 9.2882e-04 - val_acc: 1.0000\n",
            "Epoch 30/80\n",
            "75/75 [==============================] - 1s 9ms/step - loss: 0.0587 - acc: 0.9778 - val_loss: 0.0096 - val_acc: 1.0000\n",
            "Epoch 31/80\n",
            "75/75 [==============================] - 1s 9ms/step - loss: 0.0082 - acc: 1.0000 - val_loss: 6.3860e-04 - val_acc: 1.0000\n",
            "Epoch 32/80\n",
            "75/75 [==============================] - 1s 9ms/step - loss: 0.0215 - acc: 0.9867 - val_loss: 0.0018 - val_acc: 1.0000\n",
            "Epoch 33/80\n",
            "75/75 [==============================] - 1s 9ms/step - loss: 0.0606 - acc: 0.9689 - val_loss: 0.0056 - val_acc: 1.0000\n",
            "Epoch 34/80\n",
            "75/75 [==============================] - 1s 9ms/step - loss: 0.0463 - acc: 0.9778 - val_loss: 0.0787 - val_acc: 0.9333\n",
            "Epoch 35/80\n",
            "75/75 [==============================] - 1s 9ms/step - loss: 0.0353 - acc: 0.9778 - val_loss: 0.0016 - val_acc: 1.0000\n",
            "Epoch 36/80\n",
            "75/75 [==============================] - 1s 9ms/step - loss: 0.0206 - acc: 0.9867 - val_loss: 0.0157 - val_acc: 1.0000\n",
            "Epoch 37/80\n",
            "75/75 [==============================] - 1s 9ms/step - loss: 0.0255 - acc: 0.9911 - val_loss: 1.3904e-04 - val_acc: 1.0000\n",
            "Epoch 38/80\n",
            "75/75 [==============================] - 1s 9ms/step - loss: 0.0325 - acc: 0.9867 - val_loss: 0.0105 - val_acc: 1.0000\n",
            "Epoch 39/80\n",
            "75/75 [==============================] - 1s 9ms/step - loss: 0.0178 - acc: 0.9911 - val_loss: 0.0020 - val_acc: 1.0000\n",
            "Epoch 40/80\n",
            "75/75 [==============================] - 1s 9ms/step - loss: 0.0618 - acc: 0.9822 - val_loss: 0.0329 - val_acc: 1.0000\n",
            "Epoch 41/80\n",
            "75/75 [==============================] - 1s 9ms/step - loss: 0.0513 - acc: 0.9778 - val_loss: 0.0064 - val_acc: 1.0000\n",
            "Epoch 42/80\n",
            "75/75 [==============================] - 1s 9ms/step - loss: 0.0392 - acc: 0.9778 - val_loss: 7.5836e-04 - val_acc: 1.0000\n",
            "Epoch 43/80\n",
            "75/75 [==============================] - 1s 9ms/step - loss: 0.0228 - acc: 0.9956 - val_loss: 5.8346e-04 - val_acc: 1.0000\n",
            "Epoch 44/80\n",
            "75/75 [==============================] - 1s 9ms/step - loss: 0.0105 - acc: 0.9956 - val_loss: 9.2903e-04 - val_acc: 1.0000\n",
            "Epoch 45/80\n",
            "75/75 [==============================] - 1s 9ms/step - loss: 0.0030 - acc: 1.0000 - val_loss: 0.0012 - val_acc: 1.0000\n",
            "Epoch 46/80\n",
            "75/75 [==============================] - 1s 9ms/step - loss: 0.0032 - acc: 1.0000 - val_loss: 0.0025 - val_acc: 1.0000\n",
            "Epoch 47/80\n",
            "75/75 [==============================] - 1s 9ms/step - loss: 0.0015 - acc: 1.0000 - val_loss: 0.0014 - val_acc: 1.0000\n",
            "Epoch 48/80\n",
            "75/75 [==============================] - 1s 9ms/step - loss: 0.0260 - acc: 0.9911 - val_loss: 0.0098 - val_acc: 1.0000\n",
            "Epoch 49/80\n",
            "75/75 [==============================] - 1s 9ms/step - loss: 0.0363 - acc: 0.9911 - val_loss: 0.2709 - val_acc: 0.9333\n",
            "Epoch 50/80\n",
            "75/75 [==============================] - 1s 9ms/step - loss: 0.0060 - acc: 1.0000 - val_loss: 3.3414e-04 - val_acc: 1.0000\n",
            "Epoch 51/80\n",
            "75/75 [==============================] - 1s 9ms/step - loss: 0.0380 - acc: 0.9822 - val_loss: 0.0188 - val_acc: 1.0000\n",
            "Epoch 52/80\n",
            "75/75 [==============================] - 1s 9ms/step - loss: 0.0154 - acc: 0.9911 - val_loss: 4.8677e-05 - val_acc: 1.0000\n",
            "Epoch 53/80\n",
            "75/75 [==============================] - 1s 9ms/step - loss: 0.0032 - acc: 1.0000 - val_loss: 3.6310e-05 - val_acc: 1.0000\n",
            "Epoch 54/80\n",
            "75/75 [==============================] - 1s 9ms/step - loss: 0.0115 - acc: 0.9911 - val_loss: 4.1445e-05 - val_acc: 1.0000\n",
            "Epoch 55/80\n",
            "75/75 [==============================] - 1s 9ms/step - loss: 0.1383 - acc: 0.9644 - val_loss: 0.0368 - val_acc: 1.0000\n",
            "Epoch 56/80\n",
            "75/75 [==============================] - 1s 9ms/step - loss: 0.0065 - acc: 1.0000 - val_loss: 0.0133 - val_acc: 1.0000\n",
            "Epoch 57/80\n",
            "75/75 [==============================] - 1s 9ms/step - loss: 0.0512 - acc: 0.9822 - val_loss: 0.0013 - val_acc: 1.0000\n",
            "Epoch 58/80\n",
            "75/75 [==============================] - 1s 9ms/step - loss: 0.0267 - acc: 0.9911 - val_loss: 3.2624e-04 - val_acc: 1.0000\n",
            "Epoch 59/80\n",
            "75/75 [==============================] - 1s 9ms/step - loss: 0.0019 - acc: 1.0000 - val_loss: 5.3894e-04 - val_acc: 1.0000\n",
            "Epoch 60/80\n",
            "75/75 [==============================] - 1s 9ms/step - loss: 0.0346 - acc: 0.9911 - val_loss: 0.0034 - val_acc: 1.0000\n",
            "Epoch 61/80\n",
            "75/75 [==============================] - 1s 9ms/step - loss: 0.0122 - acc: 1.0000 - val_loss: 0.0057 - val_acc: 1.0000\n",
            "Epoch 62/80\n",
            "75/75 [==============================] - 1s 9ms/step - loss: 0.0551 - acc: 0.9956 - val_loss: 6.0625e-04 - val_acc: 1.0000\n",
            "Epoch 63/80\n",
            "75/75 [==============================] - 1s 9ms/step - loss: 0.0020 - acc: 1.0000 - val_loss: 1.2019e-04 - val_acc: 1.0000\n",
            "Epoch 64/80\n",
            "75/75 [==============================] - 1s 9ms/step - loss: 0.0045 - acc: 1.0000 - val_loss: 4.6017e-05 - val_acc: 1.0000\n",
            "Epoch 65/80\n",
            "75/75 [==============================] - 1s 9ms/step - loss: 0.0193 - acc: 0.9867 - val_loss: 0.0048 - val_acc: 1.0000\n",
            "Epoch 66/80\n",
            "75/75 [==============================] - 1s 8ms/step - loss: 0.0020 - acc: 1.0000 - val_loss: 3.7451e-04 - val_acc: 1.0000\n",
            "Epoch 67/80\n",
            "75/75 [==============================] - 1s 9ms/step - loss: 0.0185 - acc: 0.9911 - val_loss: 3.0914e-05 - val_acc: 1.0000\n",
            "Epoch 68/80\n",
            "75/75 [==============================] - 1s 9ms/step - loss: 0.0487 - acc: 0.9867 - val_loss: 0.0067 - val_acc: 1.0000\n",
            "Epoch 69/80\n",
            "75/75 [==============================] - 1s 9ms/step - loss: 0.0011 - acc: 1.0000 - val_loss: 6.5899e-04 - val_acc: 1.0000\n",
            "Epoch 70/80\n",
            "75/75 [==============================] - 1s 9ms/step - loss: 0.0052 - acc: 1.0000 - val_loss: 0.0249 - val_acc: 1.0000\n",
            "Epoch 71/80\n",
            "75/75 [==============================] - 1s 9ms/step - loss: 0.0061 - acc: 1.0000 - val_loss: 0.1298 - val_acc: 0.9333\n",
            "Epoch 72/80\n",
            "75/75 [==============================] - 1s 9ms/step - loss: 0.0484 - acc: 0.9733 - val_loss: 0.0560 - val_acc: 0.9333\n",
            "Epoch 73/80\n",
            "75/75 [==============================] - 1s 9ms/step - loss: 0.0653 - acc: 0.9822 - val_loss: 1.5111e-04 - val_acc: 1.0000\n",
            "Epoch 74/80\n",
            "75/75 [==============================] - 1s 9ms/step - loss: 0.0049 - acc: 1.0000 - val_loss: 1.3606e-05 - val_acc: 1.0000\n",
            "Epoch 75/80\n",
            "75/75 [==============================] - 1s 9ms/step - loss: 0.0185 - acc: 0.9911 - val_loss: 0.0044 - val_acc: 1.0000\n",
            "Epoch 76/80\n",
            "75/75 [==============================] - 1s 9ms/step - loss: 0.0141 - acc: 0.9911 - val_loss: 3.3567e-05 - val_acc: 1.0000\n",
            "Epoch 77/80\n",
            "75/75 [==============================] - 1s 9ms/step - loss: 0.0786 - acc: 0.9778 - val_loss: 0.1699 - val_acc: 0.9333\n",
            "Epoch 78/80\n",
            "75/75 [==============================] - 1s 9ms/step - loss: 0.0076 - acc: 1.0000 - val_loss: 0.1148 - val_acc: 0.9333\n",
            "Epoch 79/80\n",
            "75/75 [==============================] - 1s 9ms/step - loss: 0.0304 - acc: 0.9867 - val_loss: 0.0179 - val_acc: 1.0000\n",
            "Epoch 80/80\n",
            "75/75 [==============================] - 1s 9ms/step - loss: 0.0057 - acc: 0.9956 - val_loss: 0.0101 - val_acc: 1.0000\n"
          ],
          "name": "stdout"
        }
      ]
    },
    {
      "cell_type": "code",
      "metadata": {
        "id": "91DOIya4Skgc",
        "colab_type": "code",
        "colab": {
          "base_uri": "https://localhost:8080/",
          "height": 34
        },
        "outputId": "abbc91d0-cd27-4b48-a4cb-acf655b05728"
      },
      "source": [
        "test_generator.classes"
      ],
      "execution_count": 44,
      "outputs": [
        {
          "output_type": "execute_result",
          "data": {
            "text/plain": [
              "array([0, 0, 0, 0, 0, 1, 1, 1, 1, 1, 2, 2, 2, 2, 2], dtype=int32)"
            ]
          },
          "metadata": {
            "tags": []
          },
          "execution_count": 44
        }
      ]
    },
    {
      "cell_type": "code",
      "metadata": {
        "id": "_bisaht0WZab",
        "colab_type": "code",
        "colab": {
          "base_uri": "https://localhost:8080/",
          "height": 34
        },
        "outputId": "4b97583f-9f57-49ab-cc2f-fa23d495afc3"
      },
      "source": [
        "evaluation = model2.evaluate_generator(test_generator, steps=5)\n",
        "print(evaluation)"
      ],
      "execution_count": 45,
      "outputs": [
        {
          "output_type": "stream",
          "text": [
            "[0.010107571402113536, 1.0]\n"
          ],
          "name": "stdout"
        }
      ]
    },
    {
      "cell_type": "code",
      "metadata": {
        "id": "FqESwGujY7ds",
        "colab_type": "code",
        "colab": {
          "base_uri": "https://localhost:8080/",
          "height": 51
        },
        "outputId": "7f77955a-7d07-4280-f4ab-685e15ee271e"
      },
      "source": [
        "# test generator만들때 셔플이 켜져 있으므로 다시 끔\n",
        "test_generator.shuffle = False\n",
        "test_generator.index_array = None\n",
        "output = model2.predict_generator(test_generator, steps=5)\n",
        "y_predict = np.argmax(output, axis=1)\n",
        "y_true = test_generator.classes\n",
        "print(y_predict)\n",
        "print(y_true)"
      ],
      "execution_count": 46,
      "outputs": [
        {
          "output_type": "stream",
          "text": [
            "[0 0 0 0 0 1 1 1 1 1 2 2 2 2 2]\n",
            "[0 0 0 0 0 1 1 1 1 1 2 2 2 2 2]\n"
          ],
          "name": "stdout"
        }
      ]
    },
    {
      "cell_type": "code",
      "metadata": {
        "id": "sRmIOl19ZcZl",
        "colab_type": "code",
        "colab": {
          "base_uri": "https://localhost:8080/",
          "height": 272
        },
        "outputId": "4b2e0d2c-89d4-481e-e2f4-83754a22203a"
      },
      "source": [
        "output"
      ],
      "execution_count": 47,
      "outputs": [
        {
          "output_type": "execute_result",
          "data": {
            "text/plain": [
              "array([[1.0000000e+00, 5.4072606e-18, 1.7185404e-11],\n",
              "       [9.9998415e-01, 1.5867816e-05, 1.5786931e-08],\n",
              "       [1.0000000e+00, 9.2158337e-10, 1.1285366e-08],\n",
              "       [1.0000000e+00, 8.6253067e-09, 2.2526661e-08],\n",
              "       [1.0000000e+00, 2.9963348e-10, 3.1271322e-10],\n",
              "       [4.6386771e-07, 9.9999940e-01, 1.2487712e-07],\n",
              "       [9.2140323e-07, 9.9999845e-01, 6.2467086e-07],\n",
              "       [1.4057399e-01, 8.5941440e-01, 1.1691818e-05],\n",
              "       [1.2871008e-06, 9.9999774e-01, 9.6703252e-07],\n",
              "       [1.5086393e-07, 9.9991190e-01, 8.7952052e-05],\n",
              "       [2.5573259e-09, 2.4137300e-13, 1.0000000e+00],\n",
              "       [4.3935115e-16, 1.8371992e-22, 1.0000000e+00],\n",
              "       [4.7898741e-10, 7.4172759e-13, 1.0000000e+00],\n",
              "       [5.4425221e-11, 7.7275147e-17, 1.0000000e+00],\n",
              "       [6.9381037e-12, 1.2640985e-16, 1.0000000e+00]], dtype=float32)"
            ]
          },
          "metadata": {
            "tags": []
          },
          "execution_count": 47
        }
      ]
    },
    {
      "cell_type": "code",
      "metadata": {
        "id": "AwDBgQQDZ67G",
        "colab_type": "code",
        "colab": {
          "base_uri": "https://localhost:8080/",
          "height": 279
        },
        "outputId": "325c1afa-c56f-4535-c19a-f1dbf523622d"
      },
      "source": [
        "plot_accloss(history)"
      ],
      "execution_count": 48,
      "outputs": [
        {
          "output_type": "display_data",
          "data": {
            "image/png": "[encoded data removed]",
            "text/plain": [
              "<Figure size 432x288 with 2 Axes>"
            ]
          },
          "metadata": {
            "tags": []
          }
        }
      ]
    },
    {
      "cell_type": "code",
      "metadata": {
        "id": "aDpW8RkLd6jB",
        "colab_type": "code",
        "colab": {}
      },
      "source": [
        ""
      ],
      "execution_count": 0,
      "outputs": []
    }
  ]
}