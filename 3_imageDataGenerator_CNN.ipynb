{
  "nbformat": 4,
  "nbformat_minor": 0,
  "metadata": {
    "colab": {
      "name": "3_imageDataGenerator-CNN.ipynb",
      "provenance": [],
      "authorship_tag": "ABX9TyOSGWsE3hqtqJLUua4cwFer",
      "include_colab_link": true
    },
    "kernelspec": {
      "name": "python3",
      "display_name": "Python 3"
    },
    "accelerator": "GPU"
  },
  "cells": [
    {
      "cell_type": "markdown",
      "metadata": {
        "id": "view-in-github",
        "colab_type": "text"
      },
      "source": [
        "<a href=\"https://colab.research.google.com/github/duc-ke/study-book-keras_with_blocks/blob/master/3_imageDataGenerator_CNN.ipynb\" target=\"_parent\"><img src=\"https://colab.research.google.com/assets/colab-badge.svg\" alt=\"Open In Colab\"/></a>"
      ]
    },
    {
      "cell_type": "code",
      "metadata": {
        "id": "LK_4L1DSZD4-",
        "colab_type": "code",
        "colab": {
          "base_uri": "https://localhost:8080/",
          "height": 1000
        },
        "outputId": "865690be-b7c5-44d0-c208-e1de75dc92b1"
      },
      "source": [
        "!wget http://tykimos.github.io/warehouse/2017-3-8_CNN_Getting_Started_handwriting_shape.zip\n",
        "!unzip 2017-3-8_CNN_Getting_Started_handwriting_shape.zip\n",
        "!ls"
      ],
      "execution_count": 1,
      "outputs": [
        {
          "output_type": "stream",
          "text": [
            "--2020-03-02 07:13:25--  http://tykimos.github.io/warehouse/2017-3-8_CNN_Getting_Started_handwriting_shape.zip\n",
            "Resolving tykimos.github.io (tykimos.github.io)... 185.199.111.153, 185.199.110.153, 185.199.109.153, ...\n",
            "Connecting to tykimos.github.io (tykimos.github.io)|185.199.111.153|:80... connected.\n",
            "HTTP request sent, awaiting response... 301 Moved Permanently\n",
            "Location: https://tykimos.github.io/warehouse/2017-3-8_CNN_Getting_Started_handwriting_shape.zip [following]\n",
            "--2020-03-02 07:13:25--  https://tykimos.github.io/warehouse/2017-3-8_CNN_Getting_Started_handwriting_shape.zip\n",
            "Connecting to tykimos.github.io (tykimos.github.io)|185.199.111.153|:443... connected.\n",
            "HTTP request sent, awaiting response... 200 OK\n",
            "Length: 267133 (261K) [application/zip]\n",
            "Saving to: ‘2017-3-8_CNN_Getting_Started_handwriting_shape.zip’\n",
            "\n",
            "\r          2017-3-8_   0%[                    ]       0  --.-KB/s               \r2017-3-8_CNN_Gettin 100%[===================>] 260.87K  --.-KB/s    in 0.005s  \n",
            "\n",
            "2020-03-02 07:13:25 (46.8 MB/s) - ‘2017-3-8_CNN_Getting_Started_handwriting_shape.zip’ saved [267133/267133]\n",
            "\n",
            "Archive:  2017-3-8_CNN_Getting_Started_handwriting_shape.zip\n",
            "   creating: handwriting_shape/\n",
            "  inflating: handwriting_shape/.DS_Store  \n",
            "   creating: __MACOSX/\n",
            "   creating: __MACOSX/handwriting_shape/\n",
            "  inflating: __MACOSX/handwriting_shape/._.DS_Store  \n",
            "   creating: handwriting_shape/test/\n",
            "  inflating: handwriting_shape/test/.DS_Store  \n",
            "   creating: __MACOSX/handwriting_shape/test/\n",
            "  inflating: __MACOSX/handwriting_shape/test/._.DS_Store  \n",
            "   creating: handwriting_shape/test/circle/\n",
            "  inflating: handwriting_shape/test/circle/circle016.png  \n",
            "  inflating: handwriting_shape/test/circle/circle017.png  \n",
            "  inflating: handwriting_shape/test/circle/circle018.png  \n",
            "  inflating: handwriting_shape/test/circle/circle019.png  \n",
            "  inflating: handwriting_shape/test/circle/circle020.png  \n",
            "   creating: handwriting_shape/test/rectangle/\n",
            "  inflating: handwriting_shape/test/rectangle/rectangle016.png  \n",
            "  inflating: handwriting_shape/test/rectangle/rectangle017.png  \n",
            "  inflating: handwriting_shape/test/rectangle/rectangle018.png  \n",
            "  inflating: handwriting_shape/test/rectangle/rectangle019.png  \n",
            "  inflating: handwriting_shape/test/rectangle/rectangle020.png  \n",
            "   creating: handwriting_shape/test/triangle/\n",
            "  inflating: handwriting_shape/test/triangle/triangle016.png  \n",
            "  inflating: handwriting_shape/test/triangle/triangle017.png  \n",
            "  inflating: handwriting_shape/test/triangle/triangle018.png  \n",
            "  inflating: handwriting_shape/test/triangle/triangle019.png  \n",
            "  inflating: handwriting_shape/test/triangle/triangle020.png  \n",
            "   creating: handwriting_shape/train/\n",
            "  inflating: handwriting_shape/train/.DS_Store  \n",
            "   creating: __MACOSX/handwriting_shape/train/\n",
            "  inflating: __MACOSX/handwriting_shape/train/._.DS_Store  \n",
            "   creating: handwriting_shape/train/circle/\n",
            "  inflating: handwriting_shape/train/circle/circle001.png  \n",
            "  inflating: handwriting_shape/train/circle/circle002.png  \n",
            "  inflating: handwriting_shape/train/circle/circle003.png  \n",
            "  inflating: handwriting_shape/train/circle/circle004.png  \n",
            "  inflating: handwriting_shape/train/circle/circle005.png  \n",
            "  inflating: handwriting_shape/train/circle/circle006.png  \n",
            "  inflating: handwriting_shape/train/circle/circle007.png  \n",
            "  inflating: handwriting_shape/train/circle/circle008.png  \n",
            "  inflating: handwriting_shape/train/circle/circle009.png  \n",
            "  inflating: handwriting_shape/train/circle/circle010.png  \n",
            "  inflating: handwriting_shape/train/circle/circle011.png  \n",
            "  inflating: handwriting_shape/train/circle/circle012.png  \n",
            "  inflating: handwriting_shape/train/circle/circle013.png  \n",
            "  inflating: handwriting_shape/train/circle/circle014.png  \n",
            "  inflating: handwriting_shape/train/circle/circle015.png  \n",
            "   creating: handwriting_shape/train/rectangle/\n",
            "  inflating: handwriting_shape/train/rectangle/rectangle001.png  \n",
            "  inflating: handwriting_shape/train/rectangle/rectangle002.png  \n",
            "  inflating: handwriting_shape/train/rectangle/rectangle003.png  \n",
            "  inflating: handwriting_shape/train/rectangle/rectangle004.png  \n",
            "  inflating: handwriting_shape/train/rectangle/rectangle005.png  \n",
            "  inflating: handwriting_shape/train/rectangle/rectangle006.png  \n",
            "  inflating: handwriting_shape/train/rectangle/rectangle007.png  \n",
            "  inflating: handwriting_shape/train/rectangle/rectangle008.png  \n",
            "  inflating: handwriting_shape/train/rectangle/rectangle009.png  \n",
            "  inflating: handwriting_shape/train/rectangle/rectangle010.png  \n",
            "  inflating: handwriting_shape/train/rectangle/rectangle011.png  \n",
            "  inflating: handwriting_shape/train/rectangle/rectangle012.png  \n",
            "  inflating: handwriting_shape/train/rectangle/rectangle013.png  \n",
            "  inflating: handwriting_shape/train/rectangle/rectangle014.png  \n",
            "  inflating: handwriting_shape/train/rectangle/rectangle015.png  \n",
            "   creating: handwriting_shape/train/triangle/\n",
            "  inflating: handwriting_shape/train/triangle/.DS_Store  \n",
            "   creating: __MACOSX/handwriting_shape/train/triangle/\n",
            "  inflating: __MACOSX/handwriting_shape/train/triangle/._.DS_Store  \n",
            "  inflating: handwriting_shape/train/triangle/triangle001.png  \n",
            "  inflating: handwriting_shape/train/triangle/triangle002.png  \n",
            "  inflating: handwriting_shape/train/triangle/triangle003.png  \n",
            "  inflating: handwriting_shape/train/triangle/triangle004.png  \n",
            "  inflating: handwriting_shape/train/triangle/triangle005.png  \n",
            "  inflating: handwriting_shape/train/triangle/triangle006.png  \n",
            "  inflating: handwriting_shape/train/triangle/triangle007.png  \n",
            "  inflating: handwriting_shape/train/triangle/triangle008.png  \n",
            "  inflating: handwriting_shape/train/triangle/triangle009.png  \n",
            "  inflating: handwriting_shape/train/triangle/triangle010.png  \n",
            "  inflating: handwriting_shape/train/triangle/triangle011.png  \n",
            "  inflating: handwriting_shape/train/triangle/triangle012.png  \n",
            "  inflating: handwriting_shape/train/triangle/triangle013.png  \n",
            "  inflating: handwriting_shape/train/triangle/triangle014.png  \n",
            "  inflating: handwriting_shape/train/triangle/triangle015.png  \n",
            "2017-3-8_CNN_Getting_Started_handwriting_shape.zip  __MACOSX\n",
            "handwriting_shape\t\t\t\t    sample_data\n"
          ],
          "name": "stdout"
        }
      ]
    },
    {
      "cell_type": "markdown",
      "metadata": {
        "id": "_ByDckJH0xnR",
        "colab_type": "text"
      },
      "source": [
        "### 데이터 폴더 구조\n",
        "![폴더구조](https://img1.daumcdn.net/thumb/R1280x0/?scode=mtistory2&fname=https%3A%2F%2Fk.kakaocdn.net%2Fdn%2FcE6Im2%2FbtqCrjPGI0f%2FFk1ot9flkh8kYmnHQbRLOk%2Fimg.png)\n"
      ]
    },
    {
      "cell_type": "code",
      "metadata": {
        "id": "G3r-DHELaHj5",
        "colab_type": "code",
        "colab": {
          "base_uri": "https://localhost:8080/",
          "height": 80
        },
        "outputId": "3aa9f956-3024-4a71-e4e6-e3f281eb7d78"
      },
      "source": [
        "from keras.layers import Dense, Conv2D, Flatten, MaxPooling2D\n",
        "from keras.models import Sequential\n",
        "\n",
        "from keras.preprocessing.image import ImageDataGenerator    # augmentation 라이브러리!\n",
        "\n",
        "import numpy as np"
      ],
      "execution_count": 2,
      "outputs": [
        {
          "output_type": "stream",
          "text": [
            "Using TensorFlow backend.\n"
          ],
          "name": "stderr"
        },
        {
          "output_type": "display_data",
          "data": {
            "text/html": [
              "<p style=\"color: red;\">\n",
              "The default version of TensorFlow in Colab will soon switch to TensorFlow 2.x.<br>\n",
              "We recommend you <a href=\"https://www.tensorflow.org/guide/migrate\" target=\"_blank\">upgrade</a> now \n",
              "or ensure your notebook will continue to use TensorFlow 1.x via the <code>%tensorflow_version 1.x</code> magic:\n",
              "<a href=\"https://colab.research.google.com/notebooks/tensorflow_version.ipynb\" target=\"_blank\">more info</a>.</p>\n"
            ],
            "text/plain": [
              "<IPython.core.display.HTML object>"
            ]
          },
          "metadata": {
            "tags": []
          }
        }
      ]
    },
    {
      "cell_type": "code",
      "metadata": {
        "id": "R76ff0C4zTp-",
        "colab_type": "code",
        "colab": {}
      },
      "source": [
        "# 랜덤 시드 고정\n",
        "np.random.seed(3)"
      ],
      "execution_count": 0,
      "outputs": []
    },
    {
      "cell_type": "markdown",
      "metadata": {
        "id": "9kkbfdvi9wyn",
        "colab_type": "text"
      },
      "source": [
        "### Image 데이터 준비 (ImageDataGenerator 이용, 폴더별 이미지 분류시 데이터셋 생성 기능 사용)\n",
        "augmentation은 이번엔 사용하지 않음"
      ]
    },
    {
      "cell_type": "code",
      "metadata": {
        "id": "3RPl4OCp8fjg",
        "colab_type": "code",
        "colab": {
          "base_uri": "https://localhost:8080/",
          "height": 51
        },
        "outputId": "4b05651e-edb0-4d64-bb3a-d5ffc77b9a4a"
      },
      "source": [
        "train_datagen = ImageDataGenerator(rescale=1./255)    # 객체 생성\n",
        "train_generator = train_datagen.flow_from_directory(\n",
        "    'handwriting_shape/train/',\n",
        "    target_size=(24, 24),    # 폴더에 있는 원본이미지 크기가 달라도 사이즈 자동 조절\n",
        "    batch_size=3,\n",
        "    class_mode='categorical'    # 'categorical' - 2D one hot(다중 클래스) / 'binary' 1D 이진 / 'sparse' 1D 정수 라벨 \n",
        ")\n",
        "test_datagen = ImageDataGenerator(rescale=1.0/255)\n",
        "test_generator = test_datagen.flow_from_directory(\n",
        "    'handwriting_shape/test/',\n",
        "    target_size=(24, 24),\n",
        "    batch_size=3,\n",
        "    class_mode='categorical'\n",
        ")"
      ],
      "execution_count": 4,
      "outputs": [
        {
          "output_type": "stream",
          "text": [
            "Found 45 images belonging to 3 classes.\n",
            "Found 15 images belonging to 3 classes.\n"
          ],
          "name": "stdout"
        }
      ]
    },
    {
      "cell_type": "code",
      "metadata": {
        "id": "DiTi21sA920Q",
        "colab_type": "code",
        "colab": {}
      },
      "source": [
        "def CNN():\n",
        "  model = Sequential()\n",
        "  model.add(Conv2D(32, kernel_size=(3,3), activation='relu', input_shape=(24, 24, 3)))\n",
        "  model.add(Conv2D(64, kernel_size=(3,3), activation='relu'))\n",
        "  model.add(MaxPooling2D(pool_size=(2,2)))\n",
        "  model.add(Flatten())\n",
        "  \n",
        "  model.add(Dense(128, activation='relu'))\n",
        "  model.add(Dense(3, activation='softmax'))\n",
        "\n",
        "  model.compile(loss='categorical_crossentropy', optimizer='adam', metrics=['accuracy'])\n",
        "\n",
        "  return model"
      ],
      "execution_count": 0,
      "outputs": []
    },
    {
      "cell_type": "code",
      "metadata": {
        "id": "lu-irksuLxhJ",
        "colab_type": "code",
        "colab": {
          "base_uri": "https://localhost:8080/",
          "height": 241
        },
        "outputId": "c114fc4a-b345-4da2-f9c2-bb4786096ddf"
      },
      "source": [
        "model = CNN()"
      ],
      "execution_count": 6,
      "outputs": [
        {
          "output_type": "stream",
          "text": [
            "WARNING:tensorflow:From /usr/local/lib/python3.6/dist-packages/keras/backend/tensorflow_backend.py:66: The name tf.get_default_graph is deprecated. Please use tf.compat.v1.get_default_graph instead.\n",
            "\n",
            "WARNING:tensorflow:From /usr/local/lib/python3.6/dist-packages/keras/backend/tensorflow_backend.py:541: The name tf.placeholder is deprecated. Please use tf.compat.v1.placeholder instead.\n",
            "\n",
            "WARNING:tensorflow:From /usr/local/lib/python3.6/dist-packages/keras/backend/tensorflow_backend.py:4432: The name tf.random_uniform is deprecated. Please use tf.random.uniform instead.\n",
            "\n",
            "WARNING:tensorflow:From /usr/local/lib/python3.6/dist-packages/keras/backend/tensorflow_backend.py:4267: The name tf.nn.max_pool is deprecated. Please use tf.nn.max_pool2d instead.\n",
            "\n",
            "WARNING:tensorflow:From /usr/local/lib/python3.6/dist-packages/keras/optimizers.py:793: The name tf.train.Optimizer is deprecated. Please use tf.compat.v1.train.Optimizer instead.\n",
            "\n",
            "WARNING:tensorflow:From /usr/local/lib/python3.6/dist-packages/keras/backend/tensorflow_backend.py:3576: The name tf.log is deprecated. Please use tf.math.log instead.\n",
            "\n"
          ],
          "name": "stdout"
        }
      ]
    },
    {
      "cell_type": "code",
      "metadata": {
        "id": "nisC3fCiL96a",
        "colab_type": "code",
        "colab": {
          "base_uri": "https://localhost:8080/",
          "height": 1000
        },
        "outputId": "806ce61c-11ff-4f73-d406-85a2da41fbda"
      },
      "source": [
        "# generator로 생성된 데이터셋은 fit 아닌 fit_generator\n",
        "\n",
        "model.fit_generator(\n",
        "    train_generator,\n",
        "    steps_per_epoch=15,    # 한 epoch에서 사용한 스텝 수. 총 45개 train 데이터 + bath_size 3이므로 15스텝\n",
        "    epochs=50,\n",
        "    validation_data=test_generator,\n",
        "    validation_steps=5    # 한 epoch종료 시 마다 검증할때 사용되는 검증 스텝수. 총 15개 test 데이터 + batch_size 3이므로 5\n",
        ")"
      ],
      "execution_count": 7,
      "outputs": [
        {
          "output_type": "stream",
          "text": [
            "WARNING:tensorflow:From /usr/local/lib/python3.6/dist-packages/tensorflow_core/python/ops/math_grad.py:1424: where (from tensorflow.python.ops.array_ops) is deprecated and will be removed in a future version.\n",
            "Instructions for updating:\n",
            "Use tf.where in 2.0, which has the same broadcast rule as np.where\n",
            "WARNING:tensorflow:From /usr/local/lib/python3.6/dist-packages/keras/backend/tensorflow_backend.py:1033: The name tf.assign_add is deprecated. Please use tf.compat.v1.assign_add instead.\n",
            "\n",
            "WARNING:tensorflow:From /usr/local/lib/python3.6/dist-packages/keras/backend/tensorflow_backend.py:1020: The name tf.assign is deprecated. Please use tf.compat.v1.assign instead.\n",
            "\n",
            "WARNING:tensorflow:From /usr/local/lib/python3.6/dist-packages/keras/backend/tensorflow_backend.py:3005: The name tf.Session is deprecated. Please use tf.compat.v1.Session instead.\n",
            "\n",
            "Epoch 1/50\n",
            "WARNING:tensorflow:From /usr/local/lib/python3.6/dist-packages/keras/backend/tensorflow_backend.py:190: The name tf.get_default_session is deprecated. Please use tf.compat.v1.get_default_session instead.\n",
            "\n",
            "WARNING:tensorflow:From /usr/local/lib/python3.6/dist-packages/keras/backend/tensorflow_backend.py:197: The name tf.ConfigProto is deprecated. Please use tf.compat.v1.ConfigProto instead.\n",
            "\n",
            "WARNING:tensorflow:From /usr/local/lib/python3.6/dist-packages/keras/backend/tensorflow_backend.py:207: The name tf.global_variables is deprecated. Please use tf.compat.v1.global_variables instead.\n",
            "\n",
            "WARNING:tensorflow:From /usr/local/lib/python3.6/dist-packages/keras/backend/tensorflow_backend.py:216: The name tf.is_variable_initialized is deprecated. Please use tf.compat.v1.is_variable_initialized instead.\n",
            "\n",
            "WARNING:tensorflow:From /usr/local/lib/python3.6/dist-packages/keras/backend/tensorflow_backend.py:223: The name tf.variables_initializer is deprecated. Please use tf.compat.v1.variables_initializer instead.\n",
            "\n",
            "15/15 [==============================] - 14s 943ms/step - loss: 1.1600 - acc: 0.6222 - val_loss: 0.5925 - val_acc: 1.0000\n",
            "Epoch 2/50\n",
            "15/15 [==============================] - 0s 8ms/step - loss: 0.1864 - acc: 1.0000 - val_loss: 0.0621 - val_acc: 1.0000\n",
            "Epoch 3/50\n",
            "15/15 [==============================] - 0s 9ms/step - loss: 0.0107 - acc: 1.0000 - val_loss: 0.0244 - val_acc: 1.0000\n",
            "Epoch 4/50\n",
            "15/15 [==============================] - 0s 8ms/step - loss: 0.0088 - acc: 1.0000 - val_loss: 0.0891 - val_acc: 0.9333\n",
            "Epoch 5/50\n",
            "15/15 [==============================] - 0s 10ms/step - loss: 0.0110 - acc: 1.0000 - val_loss: 0.0249 - val_acc: 1.0000\n",
            "Epoch 6/50\n",
            "15/15 [==============================] - 0s 9ms/step - loss: 0.0026 - acc: 1.0000 - val_loss: 0.0282 - val_acc: 1.0000\n",
            "Epoch 7/50\n",
            "15/15 [==============================] - 0s 9ms/step - loss: 9.4869e-04 - acc: 1.0000 - val_loss: 0.0116 - val_acc: 1.0000\n",
            "Epoch 8/50\n",
            "15/15 [==============================] - 0s 9ms/step - loss: 1.2116e-04 - acc: 1.0000 - val_loss: 0.0119 - val_acc: 1.0000\n",
            "Epoch 9/50\n",
            "15/15 [==============================] - 0s 8ms/step - loss: 8.1966e-05 - acc: 1.0000 - val_loss: 0.0139 - val_acc: 1.0000\n",
            "Epoch 10/50\n",
            "15/15 [==============================] - 0s 9ms/step - loss: 6.6891e-05 - acc: 1.0000 - val_loss: 0.0176 - val_acc: 1.0000\n",
            "Epoch 11/50\n",
            "15/15 [==============================] - 0s 9ms/step - loss: 5.8653e-05 - acc: 1.0000 - val_loss: 0.0195 - val_acc: 1.0000\n",
            "Epoch 12/50\n",
            "15/15 [==============================] - 0s 9ms/step - loss: 5.3786e-05 - acc: 1.0000 - val_loss: 0.0199 - val_acc: 1.0000\n",
            "Epoch 13/50\n",
            "15/15 [==============================] - 0s 8ms/step - loss: 4.8456e-05 - acc: 1.0000 - val_loss: 0.0195 - val_acc: 1.0000\n",
            "Epoch 14/50\n",
            "15/15 [==============================] - 0s 8ms/step - loss: 4.3797e-05 - acc: 1.0000 - val_loss: 0.0206 - val_acc: 1.0000\n",
            "Epoch 15/50\n",
            "15/15 [==============================] - 0s 10ms/step - loss: 4.0049e-05 - acc: 1.0000 - val_loss: 0.0211 - val_acc: 1.0000\n",
            "Epoch 16/50\n",
            "15/15 [==============================] - 0s 8ms/step - loss: 3.6465e-05 - acc: 1.0000 - val_loss: 0.0219 - val_acc: 1.0000\n",
            "Epoch 17/50\n",
            "15/15 [==============================] - 0s 9ms/step - loss: 3.3467e-05 - acc: 1.0000 - val_loss: 0.0214 - val_acc: 1.0000\n",
            "Epoch 18/50\n",
            "15/15 [==============================] - 0s 8ms/step - loss: 3.0794e-05 - acc: 1.0000 - val_loss: 0.0223 - val_acc: 1.0000\n",
            "Epoch 19/50\n",
            "15/15 [==============================] - 0s 9ms/step - loss: 2.8101e-05 - acc: 1.0000 - val_loss: 0.0217 - val_acc: 1.0000\n",
            "Epoch 20/50\n",
            "15/15 [==============================] - 0s 9ms/step - loss: 2.6178e-05 - acc: 1.0000 - val_loss: 0.0219 - val_acc: 1.0000\n",
            "Epoch 21/50\n",
            "15/15 [==============================] - 0s 10ms/step - loss: 2.4100e-05 - acc: 1.0000 - val_loss: 0.0218 - val_acc: 1.0000\n",
            "Epoch 22/50\n",
            "15/15 [==============================] - 0s 9ms/step - loss: 2.2393e-05 - acc: 1.0000 - val_loss: 0.0219 - val_acc: 1.0000\n",
            "Epoch 23/50\n",
            "15/15 [==============================] - 0s 8ms/step - loss: 2.0733e-05 - acc: 1.0000 - val_loss: 0.0222 - val_acc: 1.0000\n",
            "Epoch 24/50\n",
            "15/15 [==============================] - 0s 10ms/step - loss: 1.9178e-05 - acc: 1.0000 - val_loss: 0.0228 - val_acc: 1.0000\n",
            "Epoch 25/50\n",
            "15/15 [==============================] - 0s 8ms/step - loss: 1.7837e-05 - acc: 1.0000 - val_loss: 0.0229 - val_acc: 1.0000\n",
            "Epoch 26/50\n",
            "15/15 [==============================] - 0s 9ms/step - loss: 1.6592e-05 - acc: 1.0000 - val_loss: 0.0230 - val_acc: 1.0000\n",
            "Epoch 27/50\n",
            "15/15 [==============================] - 0s 8ms/step - loss: 1.5432e-05 - acc: 1.0000 - val_loss: 0.0234 - val_acc: 1.0000\n",
            "Epoch 28/50\n",
            "15/15 [==============================] - 0s 9ms/step - loss: 1.4454e-05 - acc: 1.0000 - val_loss: 0.0236 - val_acc: 1.0000\n",
            "Epoch 29/50\n",
            "15/15 [==============================] - 0s 9ms/step - loss: 1.3625e-05 - acc: 1.0000 - val_loss: 0.0232 - val_acc: 1.0000\n",
            "Epoch 30/50\n",
            "15/15 [==============================] - 0s 11ms/step - loss: 1.2713e-05 - acc: 1.0000 - val_loss: 0.0235 - val_acc: 1.0000\n",
            "Epoch 31/50\n",
            "15/15 [==============================] - 0s 8ms/step - loss: 1.1839e-05 - acc: 1.0000 - val_loss: 0.0241 - val_acc: 1.0000\n",
            "Epoch 32/50\n",
            "15/15 [==============================] - 0s 8ms/step - loss: 1.1187e-05 - acc: 1.0000 - val_loss: 0.0243 - val_acc: 1.0000\n",
            "Epoch 33/50\n",
            "15/15 [==============================] - 0s 8ms/step - loss: 1.0646e-05 - acc: 1.0000 - val_loss: 0.0234 - val_acc: 1.0000\n",
            "Epoch 34/50\n",
            "15/15 [==============================] - 0s 10ms/step - loss: 9.9462e-06 - acc: 1.0000 - val_loss: 0.0236 - val_acc: 1.0000\n",
            "Epoch 35/50\n",
            "15/15 [==============================] - 0s 9ms/step - loss: 9.3051e-06 - acc: 1.0000 - val_loss: 0.0235 - val_acc: 1.0000\n",
            "Epoch 36/50\n",
            "15/15 [==============================] - 0s 9ms/step - loss: 8.8508e-06 - acc: 1.0000 - val_loss: 0.0234 - val_acc: 1.0000\n",
            "Epoch 37/50\n",
            "15/15 [==============================] - 0s 8ms/step - loss: 8.4084e-06 - acc: 1.0000 - val_loss: 0.0230 - val_acc: 1.0000\n",
            "Epoch 38/50\n",
            "15/15 [==============================] - 0s 9ms/step - loss: 7.8852e-06 - acc: 1.0000 - val_loss: 0.0229 - val_acc: 1.0000\n",
            "Epoch 39/50\n",
            "15/15 [==============================] - 0s 9ms/step - loss: 7.5209e-06 - acc: 1.0000 - val_loss: 0.0227 - val_acc: 1.0000\n",
            "Epoch 40/50\n",
            "15/15 [==============================] - 0s 9ms/step - loss: 7.1381e-06 - acc: 1.0000 - val_loss: 0.0219 - val_acc: 1.0000\n",
            "Epoch 41/50\n",
            "15/15 [==============================] - 0s 9ms/step - loss: 6.7540e-06 - acc: 1.0000 - val_loss: 0.0219 - val_acc: 1.0000\n",
            "Epoch 42/50\n",
            "15/15 [==============================] - 0s 9ms/step - loss: 6.4904e-06 - acc: 1.0000 - val_loss: 0.0218 - val_acc: 1.0000\n",
            "Epoch 43/50\n",
            "15/15 [==============================] - 0s 8ms/step - loss: 6.1950e-06 - acc: 1.0000 - val_loss: 0.0216 - val_acc: 1.0000\n",
            "Epoch 44/50\n",
            "15/15 [==============================] - 0s 9ms/step - loss: 5.9115e-06 - acc: 1.0000 - val_loss: 0.0212 - val_acc: 1.0000\n",
            "Epoch 45/50\n",
            "15/15 [==============================] - 0s 9ms/step - loss: 5.6559e-06 - acc: 1.0000 - val_loss: 0.0214 - val_acc: 1.0000\n",
            "Epoch 46/50\n",
            "15/15 [==============================] - 0s 9ms/step - loss: 5.4890e-06 - acc: 1.0000 - val_loss: 0.0205 - val_acc: 1.0000\n",
            "Epoch 47/50\n",
            "15/15 [==============================] - 0s 8ms/step - loss: 5.2108e-06 - acc: 1.0000 - val_loss: 0.0207 - val_acc: 1.0000\n",
            "Epoch 48/50\n",
            "15/15 [==============================] - 0s 9ms/step - loss: 5.0161e-06 - acc: 1.0000 - val_loss: 0.0204 - val_acc: 1.0000\n",
            "Epoch 49/50\n",
            "15/15 [==============================] - 0s 9ms/step - loss: 4.8227e-06 - acc: 1.0000 - val_loss: 0.0201 - val_acc: 1.0000\n",
            "Epoch 50/50\n",
            "15/15 [==============================] - 0s 8ms/step - loss: 4.6373e-06 - acc: 1.0000 - val_loss: 0.0200 - val_acc: 1.0000\n"
          ],
          "name": "stdout"
        },
        {
          "output_type": "execute_result",
          "data": {
            "text/plain": [
              "<keras.callbacks.History at 0x7f0e707dba58>"
            ]
          },
          "metadata": {
            "tags": []
          },
          "execution_count": 7
        }
      ]
    },
    {
      "cell_type": "code",
      "metadata": {
        "id": "z_ceZn52Mgjw",
        "colab_type": "code",
        "colab": {
          "base_uri": "https://localhost:8080/",
          "height": 51
        },
        "outputId": "0ccab755-5510-4e98-9d54-5095de4501e4"
      },
      "source": [
        "evaluation = model.evaluate(test_generator, steps=5)\n",
        "print(evaluation)"
      ],
      "execution_count": 8,
      "outputs": [
        {
          "output_type": "stream",
          "text": [
            "5/5 [==============================] - 0s 4ms/step\n",
            "[0.020033472860268374, 1.0]\n"
          ],
          "name": "stdout"
        }
      ]
    },
    {
      "cell_type": "code",
      "metadata": {
        "id": "YBMlHSuTMxDE",
        "colab_type": "code",
        "colab": {
          "base_uri": "https://localhost:8080/",
          "height": 289
        },
        "outputId": "22fbb216-3e69-4d0c-d745-b6daf05683fb"
      },
      "source": [
        "# generator썼을땐 predict 아닌 predict_generator사용\n",
        "\n",
        "output = model.predict_generator(test_generator, steps=5)\n",
        "print(test_generator.class_indices)    # 각 클래스 이름을 알 수 있음\n",
        "output"
      ],
      "execution_count": 15,
      "outputs": [
        {
          "output_type": "stream",
          "text": [
            "{'circle': 0, 'rectangle': 1, 'triangle': 2}\n"
          ],
          "name": "stdout"
        },
        {
          "output_type": "execute_result",
          "data": {
            "text/plain": [
              "array([[0.000, 0.000, 1.000],\n",
              "       [0.991, 0.000, 0.009],\n",
              "       [0.000, 0.000, 1.000],\n",
              "       [1.000, 0.000, 0.000],\n",
              "       [0.000, 1.000, 0.000],\n",
              "       [1.000, 0.000, 0.000],\n",
              "       [0.000, 1.000, 0.000],\n",
              "       [0.000, 1.000, 0.000],\n",
              "       [0.000, 0.000, 1.000],\n",
              "       [0.045, 0.748, 0.207],\n",
              "       [0.000, 0.000, 1.000],\n",
              "       [1.000, 0.000, 0.000],\n",
              "       [1.000, 0.000, 0.000],\n",
              "       [0.000, 0.000, 1.000],\n",
              "       [0.000, 1.000, 0.000]], dtype=float32)"
            ]
          },
          "metadata": {
            "tags": []
          },
          "execution_count": 15
        }
      ]
    },
    {
      "cell_type": "markdown",
      "metadata": {
        "id": "0Jzy8kYCP7fG",
        "colab_type": "text"
      },
      "source": [
        "클래스별 확률값이 나타남"
      ]
    },
    {
      "cell_type": "code",
      "metadata": {
        "id": "p8mjxSErNKAM",
        "colab_type": "code",
        "colab": {
          "base_uri": "https://localhost:8080/",
          "height": 34
        },
        "outputId": "4f7e9b71-6c9c-43f5-c9c7-e0e56f8babfa"
      },
      "source": [
        "# 각 이미지 마다의 결과 출력 필요시. argmax이용\n",
        "np.argmax(output, axis=1)"
      ],
      "execution_count": 14,
      "outputs": [
        {
          "output_type": "execute_result",
          "data": {
            "text/plain": [
              "array([2, 0, 2, 0, 1, 0, 1, 1, 2, 1, 2, 0, 0, 2, 1])"
            ]
          },
          "metadata": {
            "tags": []
          },
          "execution_count": 14
        }
      ]
    },
    {
      "cell_type": "code",
      "metadata": {
        "id": "WIJO8mAdNY4r",
        "colab_type": "code",
        "colab": {}
      },
      "source": [
        "# numpy의 수치형 포맷을 소숫점 3째 자리까지 나타내는 옵션\n",
        "np.set_printoptions(formatter={'float': lambda x: \"{0:0.3f}\".format(x)})"
      ],
      "execution_count": 0,
      "outputs": []
    },
    {
      "cell_type": "code",
      "metadata": {
        "id": "XezdV3ZvNyd8",
        "colab_type": "code",
        "colab": {
          "base_uri": "https://localhost:8080/",
          "height": 272
        },
        "outputId": "ce8338d3-dfd7-454d-ae39-84d2544052d5"
      },
      "source": [
        "output"
      ],
      "execution_count": 13,
      "outputs": [
        {
          "output_type": "execute_result",
          "data": {
            "text/plain": [
              "array([[0.000, 0.000, 1.000],\n",
              "       [0.991, 0.000, 0.009],\n",
              "       [0.000, 0.000, 1.000],\n",
              "       [1.000, 0.000, 0.000],\n",
              "       [0.000, 1.000, 0.000],\n",
              "       [1.000, 0.000, 0.000],\n",
              "       [0.000, 1.000, 0.000],\n",
              "       [0.000, 1.000, 0.000],\n",
              "       [0.000, 0.000, 1.000],\n",
              "       [0.045, 0.748, 0.207],\n",
              "       [0.000, 0.000, 1.000],\n",
              "       [1.000, 0.000, 0.000],\n",
              "       [1.000, 0.000, 0.000],\n",
              "       [0.000, 0.000, 1.000],\n",
              "       [0.000, 1.000, 0.000]], dtype=float32)"
            ]
          },
          "metadata": {
            "tags": []
          },
          "execution_count": 13
        }
      ]
    },
    {
      "cell_type": "code",
      "metadata": {
        "id": "hOwY2fVbN0ft",
        "colab_type": "code",
        "colab": {}
      },
      "source": [
        ""
      ],
      "execution_count": 0,
      "outputs": []
    }
  ]
}