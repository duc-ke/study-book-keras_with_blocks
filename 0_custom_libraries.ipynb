{
  "nbformat": 4,
  "nbformat_minor": 0,
  "metadata": {
    "colab": {
      "name": "0.plot_performance.ipynb",
      "provenance": [],
      "authorship_tag": "ABX9TyPUKOmbjsbtPgnpaWTVCK3R",
      "include_colab_link": true
    },
    "kernelspec": {
      "name": "python3",
      "display_name": "Python 3"
    }
  },
  "cells": [
    {
      "cell_type": "markdown",
      "metadata": {
        "id": "view-in-github",
        "colab_type": "text"
      },
      "source": [
        "<a href=\"https://colab.research.google.com/github/duc-ke/study-book-keras_with_blocks/blob/master/0_custom_libraries.ipynb\" target=\"_parent\"><img src=\"https://colab.research.google.com/assets/colab-badge.svg\" alt=\"Open In Colab\"/></a>"
      ]
    },
    {
      "cell_type": "markdown",
      "metadata": {
        "id": "u91CrGRj5wJm",
        "colab_type": "text"
      },
      "source": [
        "### Cost, Loss를 그리는 함수"
      ]
    },
    {
      "cell_type": "code",
      "metadata": {
        "id": "_Jq78pFuvZsD",
        "colab_type": "code",
        "colab": {}
      },
      "source": [
        "import matplotlib.pyplot as plt"
      ],
      "execution_count": 0,
      "outputs": []
    },
    {
      "cell_type": "code",
      "metadata": {
        "id": "rZTgjascvf-G",
        "colab_type": "code",
        "colab": {}
      },
      "source": [
        "# Cost(Loss) 그래프 출력\n",
        "def plot_loss(history):\n",
        "  plt.plot(history.history['loss'])\n",
        "  plt.plot(history.history['val_loss'])\n",
        "  plt.title('Model Loss')\n",
        "  plt.xlabel('Epochs')\n",
        "  plt.ylabel('Loss')\n",
        "  plt.legend(['Train', 'Test'], loc=0)\n",
        "  "
      ],
      "execution_count": 0,
      "outputs": []
    },
    {
      "cell_type": "code",
      "metadata": {
        "id": "zYyLRlypv2zN",
        "colab_type": "code",
        "colab": {}
      },
      "source": [
        "# Accuracy 그래프 출력\n",
        "def plot_acc(history):\n",
        "    plt.plot(history.history['acc'])\n",
        "    plt.plot(history.history['val_acc'])\n",
        "    plt.title('Model Accuracy')\n",
        "    plt.xlabel('Epochs')\n",
        "    plt.ylabel('Accuracy')\n",
        "    plt.legend(['Train', 'Test'])"
      ],
      "execution_count": 0,
      "outputs": []
    },
    {
      "cell_type": "code",
      "metadata": {
        "id": "c0e-PY0G4ju0",
        "colab_type": "code",
        "colab": {}
      },
      "source": [
        "# loss, accuracy를 한번에 그리기\n",
        "def plot_accloss(history):\n",
        "  fig, loss_ax = plt.subplots()\n",
        "  acc_ax = loss_ax.twinx()\n",
        "  \n",
        "  loss_ax.plot(history.history['loss'], 'y', label='train loss')\n",
        "  loss_ax.plot(history.history['val_loss'], 'r', label='val loss')\n",
        "  \n",
        "  acc_ax.plot(history.history['acc'], 'b', label='train acc')\n",
        "  acc_ax.plot(history.history['val_acc'], 'g', label='val acc')\n",
        "  \n",
        "  loss_ax.set_xlabel('Epoch')\n",
        "  loss_ax.set_ylabel('Loss')\n",
        "  acc_ax.set_ylabel('Accuracy')\n",
        "  \n",
        "  loss_ax.legend(loc='upper left')\n",
        "  acc_ax.legend(loc='lower left')\n",
        "  \n",
        "  plt.show()"
      ],
      "execution_count": 0,
      "outputs": []
    },
    {
      "cell_type": "markdown",
      "metadata": {
        "id": "c0UfLUTv55Us",
        "colab_type": "text"
      },
      "source": [
        "### unique한 딕렉토리 혹은 파일 이름을 만들고 폴더 생성하는 함수"
      ]
    },
    {
      "cell_type": "code",
      "metadata": {
        "id": "mPRddfJj5eI5",
        "colab_type": "code",
        "colab": {}
      },
      "source": [
        "# data 저장하기 위한 함수\n",
        "import datetime\n",
        "import uuid\n",
        "import os"
      ],
      "execution_count": 0,
      "outputs": []
    },
    {
      "cell_type": "code",
      "metadata": {
        "id": "7qAxf2aYv_9e",
        "colab_type": "code",
        "colab": {}
      },
      "source": [
        "# unique 이름을 만들어 주는 함수\n",
        "def unique_filename(type='uuid'):\n",
        "    if type == 'datetime':\n",
        "        filename = datetime.datetime.now().strftime(\"%y%m%d_%H%M%S\")\n",
        "    else:  # type == \"uuid\"\n",
        "        filename = str(uuid.uuid4())\n",
        "    return filename\n",
        "\n",
        "# unique한 이름을 가진 폴더를 만들어 주는 함수\n",
        "def makenewfold(prefix='output_', type='datetime'):\n",
        "    suffix = unique_filename('datetime')\n",
        "    foldname = 'output_' + suffix\n",
        "    os.makedirs(foldname)\n",
        "    return foldname"
      ],
      "execution_count": 0,
      "outputs": []
    },
    {
      "cell_type": "code",
      "metadata": {
        "id": "5tb-GZijqd9c",
        "colab_type": "code",
        "colab": {}
      },
      "source": [
        "def make_dir(dirname):\n",
        "  try:\n",
        "    if not(os.path.isdir(dirname)):\n",
        "        os.makedirs(os.path.join(dirname))\n",
        "  except OSError as e:\n",
        "      if e.errno != errno.EEXIST:\n",
        "          print(\"Failed to create directory!!!!!\")\n",
        "          raise"
      ],
      "execution_count": 0,
      "outputs": []
    },
    {
      "cell_type": "markdown",
      "metadata": {
        "id": "95OfVWl86HyW",
        "colab_type": "text"
      },
      "source": [
        "### Model summary를 그려주는 함수"
      ]
    },
    {
      "cell_type": "code",
      "metadata": {
        "id": "sxUXZSApUpMO",
        "colab_type": "code",
        "colab": {}
      },
      "source": [
        "from IPython.display import SVG\n",
        "from keras.utils.vis_utils import model_to_dot"
      ],
      "execution_count": 0,
      "outputs": []
    },
    {
      "cell_type": "code",
      "metadata": {
        "id": "RW3ePx5_5tPD",
        "colab_type": "code",
        "colab": {}
      },
      "source": [
        "\n",
        "# 컴파일이 끝난 모델 구조를 가시화 해주는 함수\n",
        "def visualize_model(model, dpi=65):\n",
        "  return SVG(model_to_dot(model, show_shapes=True, dpi=dpi, show_layer_names=True)\\\n",
        "      .create(prog='dot', format='svg'))"
      ],
      "execution_count": 0,
      "outputs": []
    },
    {
      "cell_type": "markdown",
      "metadata": {
        "id": "_wsmiUjPVKGK",
        "colab_type": "text"
      },
      "source": [
        "### img를 보여주는 함수"
      ]
    },
    {
      "cell_type": "code",
      "metadata": {
        "id": "lmnoF1YFfvqL",
        "colab_type": "code",
        "colab": {}
      },
      "source": [
        "from google.colab.patches import cv2_imshow\n",
        "import matplotlib.pyplot as plt\n",
        "import cv2"
      ],
      "execution_count": 0,
      "outputs": []
    },
    {
      "cell_type": "code",
      "metadata": {
        "id": "023AFNvyfyrg",
        "colab_type": "code",
        "colab": {}
      },
      "source": [
        "def img_show(path, figsize=(2, 2), name=False):\n",
        "  plt.figure(figsize=figsize)\n",
        "  img = cv2.imread(path)\n",
        "  img = cv2.cvtColor(img, cv2.COLOR_BGR2RGB)\n",
        "  if name:\n",
        "    plt.title(name)\n",
        "  plt.imshow(img)"
      ],
      "execution_count": 0,
      "outputs": []
    }
  ]
}